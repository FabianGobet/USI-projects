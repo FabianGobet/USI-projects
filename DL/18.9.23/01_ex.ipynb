{
  "metadata": {
    "kernelspec": {
      "language": "python",
      "display_name": "Python 3",
      "name": "python3"
    },
    "language_info": {
      "name": "python",
      "version": "3.10.12",
      "mimetype": "text/x-python",
      "codemirror_mode": {
        "name": "ipython",
        "version": 3
      },
      "pygments_lexer": "ipython3",
      "nbconvert_exporter": "python",
      "file_extension": ".py"
    },
    "colab": {
      "provenance": []
    }
  },
  "nbformat_minor": 0,
  "nbformat": 4,
  "cells": [
    {
      "cell_type": "markdown",
      "source": [
        "# Exercise 1\n",
        "## Authors: E. Vercesi; A. Dei Rossi, T. Marzi, M. Palomba\n",
        "\n",
        "This Notebook is a guideline for Exercise 1"
      ],
      "metadata": {
        "id": "HbC2xLBEBaJx"
      }
    },
    {
      "cell_type": "markdown",
      "source": [
        "## Lists\n",
        "Lists are one of the fundamental data structures in Python, used to store collections of items.\n",
        "\n",
        "Give the following list (of fruits), learn how to\n",
        "1. Acces elements (which is the index of the first element?)\n",
        "2. Modify elements (e.g, change the third element to \"pineapple\")\n",
        "3. Get the length\n",
        "4. Add one element at the end\n",
        "5. Remove one element (Take care of what returns and what happens to the original list. What is the meaning of in-place method?)\n",
        "6. Learn about the meaning of slicing, then slice your list\n",
        "7. Learn about the meaning of list comprehension and filter your list of fruits by keeping only fruits having an \"a\" inside"
      ],
      "metadata": {
        "id": "HOZlMH8QBaJz"
      }
    },
    {
      "cell_type": "code",
      "source": [
        "fruits = [\"apple\", \"banana\", \"cherry\", \"orange\"]"
      ],
      "metadata": {
        "trusted": true,
        "id": "Td6tee78BaJ0"
      },
      "execution_count": null,
      "outputs": []
    },
    {
      "cell_type": "markdown",
      "source": [
        "## Numpy\n",
        "NumPy is a fundamental Python library for numerical and scientific computing. It provides support for working with large, multi-dimensional arrays and matrices, as well as a collection of mathematical functions to operate on these arrays efficiently.\n",
        "In this part, we will start learning some numpy basics\n",
        "\n",
        "### Some exercises with numpy\n",
        "Create random multidimensionals array and inspect their shape. Try different combinations of dimensions and different distributions (normal, uniform)"
      ],
      "metadata": {
        "id": "x9fY75B4BaJ0"
      }
    },
    {
      "cell_type": "code",
      "source": [
        "import numpy as np # Import the package"
      ],
      "metadata": {
        "trusted": true,
        "id": "fUSRedMdBaJ0"
      },
      "execution_count": null,
      "outputs": []
    },
    {
      "cell_type": "markdown",
      "source": [
        "Convert a Python list in a numpy array, and try to access the first element (which is the index of the first element?). What happens if you try the same procedure with a tuple? And what with a set?"
      ],
      "metadata": {
        "id": "S-DyoQP8BaJ1"
      }
    },
    {
      "cell_type": "code",
      "source": [
        "my_list = [1, 2, 3]\n",
        "my_tuple = (1, 2, 3)\n",
        "my_set = {1, 2, 3}"
      ],
      "metadata": {
        "trusted": true,
        "id": "gfMNuJVrBaJ1"
      },
      "execution_count": null,
      "outputs": []
    },
    {
      "cell_type": "markdown",
      "source": [
        "Given $v = [1, 2, 3]^T, w = [4, 5, 6]^T$ try to implement $v - w$, that is, element-wise subtraction. What happens if $v = [1, 2]^T$? And if $v = \\begin{bmatrix} 4 & 5 \\\\ 7 & 8 \\\\ 6 & 9 \\end{bmatrix}$? What should you do if you want to subtract $w$ to all the columns of $v$ in this last case?\n",
        "\n",
        "A: If $v = [1, 2]^T$ then the substraction will get a dimensionality operation error. but if  $v = \\begin{bmatrix} 4 & 5 \\\\ 7 & 8 \\\\ 6 & 9 \\end{bmatrix}$ then $w$ will assume the same dimension as $v$ by repeating its rows/columns, process known as broadcasting."
      ],
      "metadata": {
        "id": "nPZw0-0RBaJ1"
      }
    },
    {
      "cell_type": "code",
      "source": [
        "v = np.asarray([1, 2, 3])\n",
        "w = np.asarray([4, 5, 6])\n",
        "v = np.asarray([1, 2])\n",
        "v = np.asarray([[4, 5], [7, 8], [6, 9]])"
      ],
      "metadata": {
        "trusted": true,
        "id": "fiYB8FD0BaJ1"
      },
      "execution_count": null,
      "outputs": []
    },
    {
      "cell_type": "markdown",
      "source": [
        "Given $v = [1, 2, 3]^T, \\lambda = 3$ perform $\\lambda v$. Be carefoul on the name you choose for the $\\lambda$ variable in python and explain why \"lambda\" is not a good option\n",
        "\n",
        "A: 'lambda' is a reserved keyword in python to define lambda functions."
      ],
      "metadata": {
        "id": "7oGsaujjBaJ1"
      }
    },
    {
      "cell_type": "code",
      "source": [
        "v = np.asarray([1, 2, 3])\n",
        "lmbd = 4"
      ],
      "metadata": {
        "trusted": true,
        "id": "eGjPN3InBaJ1"
      },
      "execution_count": null,
      "outputs": []
    },
    {
      "cell_type": "markdown",
      "source": [
        "Get the max of $v = [1, 2, 3]^T$"
      ],
      "metadata": {
        "id": "noo0cHCPBaJ2"
      }
    },
    {
      "cell_type": "code",
      "source": [
        "v = np.asarray([1, 2, 3])\n",
        "print('max: ' + str(v.max()))"
      ],
      "metadata": {
        "trusted": true,
        "colab": {
          "base_uri": "https://localhost:8080/"
        },
        "id": "cJypNaC5BaJ2",
        "outputId": "275f5dbf-b67f-4ff7-ecd9-be015e0316ef"
      },
      "execution_count": null,
      "outputs": [
        {
          "output_type": "stream",
          "name": "stdout",
          "text": [
            "max: 3\n"
          ]
        }
      ]
    },
    {
      "cell_type": "markdown",
      "source": [
        "Learn and explain the differences between `np.dot`, `@`, `np.matmul` and `*`. Then, performs these operation matrices of different sizes. If you face some errors, try to explain why\n",
        "\n",
        "A:\n",
        "np.dot -> 1-D array is inner product, 2-D array is standart matrix multiplication, +2-D array sum over product of first array last axis to seconds array second to last axis.\n",
        "\n",
        "np.matmul & @ -> these perform the same operation, stardart matrix multiplication\n",
        "\n",
        "* -> element wise multiplication"
      ],
      "metadata": {
        "id": "Cf6fTQHgBaJ2"
      }
    },
    {
      "cell_type": "code",
      "source": [
        "\"\"\"\n",
        "v = np.arange(12).reshape((2,2,3))\n",
        "t = np.arange(3)\n",
        "\n",
        "print(v)\n",
        "print(t)\n",
        "\n",
        "print(np.dot(v,t))\n",
        "\"\"\"\n"
      ],
      "metadata": {
        "trusted": true,
        "colab": {
          "base_uri": "https://localhost:8080/"
        },
        "id": "D6rMHEH_BaJ2",
        "outputId": "7657d2fc-758f-4d7f-e448-02e3b6ec335d"
      },
      "execution_count": null,
      "outputs": [
        {
          "output_type": "stream",
          "name": "stdout",
          "text": [
            "[[[ 0  1  2]\n",
            "  [ 3  4  5]]\n",
            "\n",
            " [[ 6  7  8]\n",
            "  [ 9 10 11]]]\n",
            "[0 1 2]\n",
            "[[ 5 14]\n",
            " [23 32]]\n"
          ]
        }
      ]
    },
    {
      "cell_type": "markdown",
      "source": [
        "Learn how to define functions in Python. Then, define a function $f : x \\mapsto \\sqrt{x} + x^2 $ and apply it to every element of $v = [4, 9, 16]$. Note: this can be easly by only rely on `numpy` function. Learn also how to set some parameters as default values in functions and try to implement a version of this function that uses this features."
      ],
      "metadata": {
        "id": "hnqj6PQuBaJ2"
      }
    },
    {
      "cell_type": "code",
      "source": [
        "def f(x, with_square_root = True):\n",
        "    a = np.power(x,2).astype(float)\n",
        "    if with_square_root:\n",
        "      a += np.sqrt(x)\n",
        "    return a\n",
        "\n",
        "v = np.asarray([4,9,16])\n",
        "print(f(v))"
      ],
      "metadata": {
        "trusted": true,
        "id": "PbABR3TUBaJ2",
        "colab": {
          "base_uri": "https://localhost:8080/"
        },
        "outputId": "3a864d06-58ec-4d08-f703-1ad76fd2c6cd"
      },
      "execution_count": 19,
      "outputs": [
        {
          "output_type": "stream",
          "name": "stdout",
          "text": [
            "[ 18.  84. 260.]\n"
          ]
        }
      ]
    },
    {
      "cell_type": "markdown",
      "source": [
        "Reade the documentation of `np.arange` and `np.linspace`. Then, create 10 evenly spaced points in the interval $[0, 1]$ and $[0.5, 10]$ using both methods."
      ],
      "metadata": {
        "id": "U-ys_8M5BaJ2"
      }
    },
    {
      "cell_type": "code",
      "source": [
        "print(np.arange(0,1 + 1/10,(1 + 1/10)/10), end = '\\n\\n') # endpoint needs added step for closed interval\n",
        "print(np.linspace(0,1,10), end = '\\n\\n')"
      ],
      "metadata": {
        "trusted": true,
        "id": "Vn8qG3eTBaJ2",
        "colab": {
          "base_uri": "https://localhost:8080/"
        },
        "outputId": "1a682098-7e00-47f7-a280-efbcbf8e596f"
      },
      "execution_count": 25,
      "outputs": [
        {
          "output_type": "stream",
          "name": "stdout",
          "text": [
            "[0.   0.11 0.22 0.33 0.44 0.55 0.66 0.77 0.88 0.99]\n",
            "[0.         0.11111111 0.22222222 0.33333333 0.44444444 0.55555556\n",
            " 0.66666667 0.77777778 0.88888889 1.        ]\n"
          ]
        }
      ]
    },
    {
      "cell_type": "markdown",
      "source": [
        "Learn about the meaning of slicing; then create a 4x4 matrix with random values between 1 and 10 and print: first row, first column, all the rows but the first, last column, the 2x2 core of the matrix"
      ],
      "metadata": {
        "id": "SnQZxjkyBaJ2"
      }
    },
    {
      "cell_type": "code",
      "source": [
        "v = np.random.rand(4,4)*10 + 1\n",
        "print(v, end = '\\n\\n')\n",
        "print(v[1,:], end = '\\n\\n')\n",
        "print(v[:,1], end = '\\n\\n')\n",
        "print(v[1:], end = '\\n\\n') # np.delete(v,0,1)\n",
        "print(v[:,-1], end = '\\n\\n')\n",
        "print(v[1:3,1:3], end = '\\n\\n')"
      ],
      "metadata": {
        "trusted": true,
        "id": "doFdejqSBaJ2",
        "colab": {
          "base_uri": "https://localhost:8080/"
        },
        "outputId": "0dd132a0-6280-4921-d6a0-fe3fb6f316de"
      },
      "execution_count": 37,
      "outputs": [
        {
          "output_type": "stream",
          "name": "stdout",
          "text": [
            "[[8.24396161 9.33108203 6.93886819 1.89766511]\n",
            " [5.9719603  5.54191468 6.27513753 5.99190122]\n",
            " [6.37881772 6.44151896 5.9341335  7.00055154]\n",
            " [3.98143925 1.94007236 6.38856218 6.55429496]]\n",
            "\n",
            "[5.9719603  5.54191468 6.27513753 5.99190122]\n",
            "\n",
            "[9.33108203 5.54191468 6.44151896 1.94007236]\n",
            "\n",
            "[[5.9719603  5.54191468 6.27513753 5.99190122]\n",
            " [6.37881772 6.44151896 5.9341335  7.00055154]\n",
            " [3.98143925 1.94007236 6.38856218 6.55429496]]\n",
            "\n",
            "[1.89766511 5.99190122 7.00055154 6.55429496]\n",
            "\n",
            "[[5.54191468 6.27513753]\n",
            " [6.44151896 5.9341335 ]]\n",
            "\n"
          ]
        }
      ]
    },
    {
      "cell_type": "markdown",
      "source": [
        "Create a random array of the size you prefere and print the maximum, the minimum and the sum. Try to create some multidimensional array to understand how to get e.g the maximum along different dimensions"
      ],
      "metadata": {
        "id": "cnf8ScrsBaJ2"
      }
    },
    {
      "cell_type": "code",
      "source": [
        "v = np.random.rand(3,4,5)\n",
        "print('max: '+str(np.max(v)))\n",
        "print('min: '+str(np.min(v)))\n",
        "print('sum: '+str(np.sum(v)))"
      ],
      "metadata": {
        "trusted": true,
        "id": "qlYx2L2fBaJ2",
        "colab": {
          "base_uri": "https://localhost:8080/"
        },
        "outputId": "a0aa7cee-c20a-4748-f7ef-488ae99f1f30"
      },
      "execution_count": 30,
      "outputs": [
        {
          "output_type": "stream",
          "name": "stdout",
          "text": [
            "max: 0.9976368786545468\n",
            "min: 0.01175384592005091\n",
            "sum: 28.260908924584008\n"
          ]
        }
      ]
    },
    {
      "cell_type": "markdown",
      "source": [
        "Create a random array of integers dimensions $ 2 \\times 4 \\times 6$ and try to reshape it in varius way. If you face some errors, try to understand why. Learn also the documentation of funtions such as `np.newaxis` and `np.squeeze`: understand what they do and try them."
      ],
      "metadata": {
        "id": "X2BU3eENBaJ3"
      }
    },
    {
      "cell_type": "code",
      "source": [
        "v = np.random.randint(10, size=(2,4,6))\n",
        "#print(2*4*6)\n",
        "v1 = v.reshape((2,2,12))\n",
        "v2 = v.reshape((1,2,24))\n",
        "v3 = np.squeeze(v2)"
      ],
      "metadata": {
        "trusted": true,
        "id": "Fj70CpxnBaJ3",
        "colab": {
          "base_uri": "https://localhost:8080/"
        },
        "outputId": "7f9e354f-bb04-433a-eb31-b2bfc96b7440"
      },
      "execution_count": 36,
      "outputs": [
        {
          "output_type": "stream",
          "name": "stdout",
          "text": [
            "48\n"
          ]
        }
      ]
    }
  ]
}