{
  "cells": [
    {
      "cell_type": "markdown",
      "metadata": {
        "_cell_guid": "cca7160a-873f-49eb-875e-a85cdba77b81",
        "_uuid": "83ff0118-a75c-42fc-bd49-f7da91632332",
        "trusted": true,
        "id": "O0tJ_hkOy5vI"
      },
      "source": [
        "# Exercise 2\n",
        "## Authors: E. Vercesi; A. Dei Rossi, T. Marzi, M.Palomba"
      ]
    },
    {
      "cell_type": "markdown",
      "metadata": {
        "_cell_guid": "e77ff176-f5a3-4dae-a002-1c5a5501085b",
        "_uuid": "96741446-da66-47c1-b102-259e55476dfa",
        "trusted": true,
        "id": "EXNJbgMOy5vK"
      },
      "source": [
        "The goal of this exercise is to learn the basics of Pytorch."
      ]
    },
    {
      "cell_type": "code",
      "execution_count": null,
      "metadata": {
        "_cell_guid": "8e0e4481-2ef9-4a2a-a2b5-651167be9b0c",
        "_uuid": "9a0e0f86-e866-4100-82f3-2e155a1ddc99",
        "execution": {
          "iopub.execute_input": "2023-09-22T12:10:10.797769Z",
          "iopub.status.busy": "2023-09-22T12:10:10.797381Z",
          "iopub.status.idle": "2023-09-22T12:10:15.625440Z",
          "shell.execute_reply": "2023-09-22T12:10:15.624312Z",
          "shell.execute_reply.started": "2023-09-22T12:10:10.797732Z"
        },
        "jupyter": {
          "outputs_hidden": false
        },
        "trusted": true,
        "colab": {
          "base_uri": "https://localhost:8080/"
        },
        "id": "NP-lJEwvy5vK",
        "outputId": "f913d195-6c09-4988-d734-fa5a345e2766"
      },
      "outputs": [
        {
          "output_type": "execute_result",
          "data": {
            "text/plain": [
              "<torch._C.Generator at 0x7f22a0038030>"
            ]
          },
          "metadata": {},
          "execution_count": 2
        }
      ],
      "source": [
        "import torch\n",
        "import numpy as np\n",
        "torch.manual_seed(42)"
      ]
    },
    {
      "cell_type": "markdown",
      "source": [
        "**Question (for fun):** Why the seed is often 42?"
      ],
      "metadata": {
        "id": "-2g2DVPH2a5M"
      }
    },
    {
      "cell_type": "markdown",
      "metadata": {
        "_cell_guid": "f5462899-c12d-43b4-8ef1-220319cc001e",
        "_uuid": "79e8a5ab-d949-4ed8-b170-18ec6cccfe21",
        "trusted": true,
        "id": "P8qsix8By5vL"
      },
      "source": [
        "## 1 - Creating tensors\n",
        "Learn how to create a tensor using the following methods:\n",
        "### 1.1 - From scratch"
      ]
    },
    {
      "cell_type": "markdown",
      "source": [
        "Create a 2D tensor of floats with `torch.tensor` (don't explecitly specify the float type, just use float numbers)"
      ],
      "metadata": {
        "id": "DTFXkkZIZqHj"
      }
    },
    {
      "cell_type": "code",
      "execution_count": null,
      "metadata": {
        "_cell_guid": "1b75a9ee-7e96-4d98-a55d-cf011e771d42",
        "_uuid": "181d1351-61ab-4377-8142-37500a1f2f4c",
        "execution": {
          "iopub.execute_input": "2023-09-22T12:14:17.042009Z",
          "iopub.status.busy": "2023-09-22T12:14:17.041645Z",
          "iopub.status.idle": "2023-09-22T12:14:17.064546Z",
          "shell.execute_reply": "2023-09-22T12:14:17.062340Z",
          "shell.execute_reply.started": "2023-09-22T12:14:17.041980Z"
        },
        "jupyter": {
          "outputs_hidden": false
        },
        "trusted": true,
        "id": "g_KnOX5gy5vL"
      },
      "outputs": [],
      "source": [
        "v_1 ="
      ]
    },
    {
      "cell_type": "markdown",
      "metadata": {
        "id": "7y9xQx-8y5vL"
      },
      "source": [
        "### 1.2 - From a numpy array (and back)"
      ]
    },
    {
      "cell_type": "markdown",
      "source": [
        "Create a 2D numpy array and convert it to a tensor, then go back to a numpy array"
      ],
      "metadata": {
        "id": "QG36744aaAfn"
      }
    },
    {
      "cell_type": "code",
      "execution_count": null,
      "metadata": {
        "execution": {
          "iopub.execute_input": "2023-09-22T12:21:00.092180Z",
          "iopub.status.busy": "2023-09-22T12:21:00.090678Z",
          "iopub.status.idle": "2023-09-22T12:21:00.100095Z",
          "shell.execute_reply": "2023-09-22T12:21:00.098869Z",
          "shell.execute_reply.started": "2023-09-22T12:21:00.092068Z"
        },
        "trusted": true,
        "id": "A9nRGnRKy5vL"
      },
      "outputs": [],
      "source": []
    },
    {
      "cell_type": "markdown",
      "metadata": {
        "id": "msmOewuNy5vL"
      },
      "source": [
        "Check the data type of the numpy tensors (in and out) and the torch tensor defined in section 1.1. **Question:** can you explain this behaviour?"
      ]
    },
    {
      "cell_type": "markdown",
      "metadata": {
        "id": "L2LkwK2gy5vL"
      },
      "source": [
        "### 1.3 - From a list"
      ]
    },
    {
      "cell_type": "markdown",
      "source": [
        "Given a list of lists, cast it as a pytorch tensor"
      ],
      "metadata": {
        "id": "EAfafNHIaRq6"
      }
    },
    {
      "cell_type": "code",
      "execution_count": null,
      "metadata": {
        "execution": {
          "iopub.execute_input": "2023-09-22T12:24:11.704273Z",
          "iopub.status.busy": "2023-09-22T12:24:11.703896Z",
          "iopub.status.idle": "2023-09-22T12:24:11.710694Z",
          "shell.execute_reply": "2023-09-22T12:24:11.709111Z",
          "shell.execute_reply.started": "2023-09-22T12:24:11.704242Z"
        },
        "trusted": true,
        "id": "5Jne-Zqry5vM"
      },
      "outputs": [],
      "source": [
        "list_v = [[1,2,3],[4,5,6]]"
      ]
    },
    {
      "cell_type": "markdown",
      "metadata": {
        "id": "wFAoa4Fly5vM"
      },
      "source": [
        "### 1.4 - Create an identity matrix"
      ]
    },
    {
      "cell_type": "markdown",
      "source": [
        "Just like numpy, pytorch makes it easy to create some kind of tensors. Try first with an identity matrix:"
      ],
      "metadata": {
        "id": "-eEkKg6_aY80"
      }
    },
    {
      "cell_type": "code",
      "execution_count": null,
      "metadata": {
        "id": "O1p1dHtDy5vM"
      },
      "outputs": [],
      "source": []
    },
    {
      "cell_type": "markdown",
      "metadata": {
        "id": "NrY6jLkfy5vM"
      },
      "source": [
        "**Question:** what happens if you specify two non-matching dimensions?"
      ]
    },
    {
      "cell_type": "markdown",
      "metadata": {
        "id": "sI1Td3a1y5vM"
      },
      "source": [
        "### 1.5 - Given the shape, create a tensor of zeros/ones"
      ]
    },
    {
      "cell_type": "markdown",
      "source": [
        "Say we want to create matrices $\\in \\mathbb{R}^{2x3}$..."
      ],
      "metadata": {
        "id": "EcdMbIBva4FN"
      }
    },
    {
      "cell_type": "code",
      "execution_count": null,
      "metadata": {
        "id": "WIPaie16y5vM"
      },
      "outputs": [],
      "source": []
    },
    {
      "cell_type": "markdown",
      "metadata": {
        "id": "B3oqNQruy5vM"
      },
      "source": [
        "\n",
        "### 1.6 - Given a tensor, create another tensor of ones/zeros/random with the same shape of the input tensor\n"
      ]
    },
    {
      "cell_type": "code",
      "execution_count": null,
      "metadata": {
        "execution": {
          "iopub.execute_input": "2023-09-22T12:24:13.185689Z",
          "iopub.status.busy": "2023-09-22T12:24:13.185103Z",
          "iopub.status.idle": "2023-09-22T12:24:13.191035Z",
          "shell.execute_reply": "2023-09-22T12:24:13.189353Z",
          "shell.execute_reply.started": "2023-09-22T12:24:13.185658Z"
        },
        "trusted": true,
        "id": "DCMXY12xy5vM"
      },
      "outputs": [],
      "source": []
    },
    {
      "cell_type": "markdown",
      "metadata": {
        "id": "nAPSCEdRy5vN"
      },
      "source": [
        "**Question:** Try to use the rand_like method with the following tensor: `torch.tensor([1,2,3])`.\n",
        "\n",
        "Why does it raise error?"
      ]
    },
    {
      "cell_type": "markdown",
      "metadata": {
        "id": "1XWejxRjy5vN"
      },
      "source": [
        "### 1.7 - Create some evenly-spaced tensors\n",
        "`arange` → creates a tensor from `start` to `end` (excluded) with distance between each point equal to `step`"
      ]
    },
    {
      "cell_type": "code",
      "execution_count": null,
      "metadata": {
        "execution": {
          "iopub.execute_input": "2023-09-22T12:44:50.042574Z",
          "iopub.status.busy": "2023-09-22T12:44:50.042189Z",
          "iopub.status.idle": "2023-09-22T12:44:50.054126Z",
          "shell.execute_reply": "2023-09-22T12:44:50.052423Z",
          "shell.execute_reply.started": "2023-09-22T12:44:50.042539Z"
        },
        "trusted": true,
        "id": "ecCcFbbay5vN"
      },
      "outputs": [],
      "source": []
    },
    {
      "cell_type": "markdown",
      "metadata": {
        "id": "X0tRIWgYy5vN"
      },
      "source": [
        "**Question:** in the arange method, what happens to the dype of the resulting vector? Try different combinations of start, end, and step.\n"
      ]
    },
    {
      "cell_type": "markdown",
      "source": [
        "Keep in mind: just like numpy, torch also supports linspace."
      ],
      "metadata": {
        "id": "uDfjud7bc8JX"
      }
    },
    {
      "cell_type": "markdown",
      "source": [
        "### 1.8 - Random tensors in numpy-style\n",
        "\n",
        "Check the documentation for different distributions (standard normal, normal, bernoulli, poisson, ...). Define a random tensor:"
      ],
      "metadata": {
        "id": "TaKEPQivelxj"
      }
    },
    {
      "cell_type": "code",
      "source": [],
      "metadata": {
        "id": "1uPKPGkFe3E3"
      },
      "execution_count": null,
      "outputs": []
    },
    {
      "cell_type": "markdown",
      "metadata": {
        "id": "1jpUgMsAy5vN"
      },
      "source": [
        "## 2 - Operations with tensors\n",
        "### 2.1 - Arithmetic operations\n",
        "Create two tensors with the same shape (e.g. `(2,3)`) and sum/subract/multiply/divide them."
      ]
    },
    {
      "cell_type": "code",
      "execution_count": null,
      "metadata": {
        "execution": {
          "iopub.execute_input": "2023-09-22T13:19:58.155294Z",
          "iopub.status.busy": "2023-09-22T13:19:58.154735Z",
          "iopub.status.idle": "2023-09-22T13:19:58.165861Z",
          "shell.execute_reply": "2023-09-22T13:19:58.164262Z",
          "shell.execute_reply.started": "2023-09-22T13:19:58.155256Z"
        },
        "trusted": true,
        "id": "i-yDGHSFy5vN"
      },
      "outputs": [],
      "source": []
    },
    {
      "cell_type": "markdown",
      "metadata": {
        "id": "AdW2YUZAy5vO"
      },
      "source": [
        "### 2.2 - Different ways to multiply tensors\n",
        "Learn and explain the differences between `torch.dot`, `@`, `torch.matmul` and `*`. Then, perform these operation matrices of different sizes. If you face some errors, try to explain why.\n",
        "\n",
        "**Remark:** you can compute the transpose of a matrix `x` using `x.T` or `x.t()`."
      ]
    },
    {
      "cell_type": "code",
      "execution_count": null,
      "metadata": {
        "execution": {
          "iopub.execute_input": "2023-09-22T13:25:26.180289Z",
          "iopub.status.busy": "2023-09-22T13:25:26.179891Z",
          "iopub.status.idle": "2023-09-22T13:25:26.195556Z",
          "shell.execute_reply": "2023-09-22T13:25:26.191872Z",
          "shell.execute_reply.started": "2023-09-22T13:25:26.180258Z"
        },
        "trusted": true,
        "id": "4AakyEqwy5vO"
      },
      "outputs": [],
      "source": []
    },
    {
      "cell_type": "markdown",
      "metadata": {
        "id": "ZcAsEM_Ay5vO"
      },
      "source": [
        "### 2.3 - Other operations\n",
        "Try some operations (e.g. add, sum, mean, max, argmax) on a tensor of shape `(2,3)`, each time using different dimensions.\n",
        "\n",
        "**Remark:** differently from `numpy`, the argument in torch built-in functions is `dim`, not `axis`. However, apparently pytorch devs kindly introduced the usage of axis as an alias of dim (be aware that we haven't tested it for all the pytorch functions).\n",
        "\n",
        "**Remark 2:** differently from `numpy`, if you specify the dim in `max` it returns the value as well as the indices (check the result also using argmax)."
      ]
    },
    {
      "cell_type": "code",
      "execution_count": null,
      "metadata": {
        "execution": {
          "iopub.execute_input": "2023-09-22T14:12:46.209228Z",
          "iopub.status.busy": "2023-09-22T14:12:46.208859Z",
          "iopub.status.idle": "2023-09-22T14:12:46.225377Z",
          "shell.execute_reply": "2023-09-22T14:12:46.223258Z",
          "shell.execute_reply.started": "2023-09-22T14:12:46.209200Z"
        },
        "trusted": true,
        "id": "t3_s5es4y5vO"
      },
      "outputs": [],
      "source": []
    },
    {
      "cell_type": "markdown",
      "metadata": {
        "id": "-DDbfiX8y5vO"
      },
      "source": [
        "### 2.4 - Broadcasting on tensors operations\n",
        "Try to sum tensors of different sizes (e.g. `(3,1)` and `(1,3)`) and explain the behaviour."
      ]
    },
    {
      "cell_type": "code",
      "execution_count": null,
      "metadata": {
        "execution": {
          "iopub.execute_input": "2023-09-22T13:39:30.560698Z",
          "iopub.status.busy": "2023-09-22T13:39:30.560320Z",
          "iopub.status.idle": "2023-09-22T13:39:30.571065Z",
          "shell.execute_reply": "2023-09-22T13:39:30.569505Z",
          "shell.execute_reply.started": "2023-09-22T13:39:30.560669Z"
        },
        "trusted": true,
        "id": "pLqFgdqby5vO"
      },
      "outputs": [],
      "source": []
    },
    {
      "cell_type": "markdown",
      "source": [
        "### 2.5 - Pytorch functionals\n",
        "Pytorch functionals (e.g. activation functions) can be imported from the `torch.nn.functional` module.\n",
        "We now create a random tensor `v` of shape `(3,3)` with values sampled from a uniform distribution in `(-2,2)`:"
      ],
      "metadata": {
        "id": "763ME4pcE3VE"
      }
    },
    {
      "cell_type": "code",
      "source": [
        "import torch.nn.functional as F\n",
        "from torch.distributions.uniform import Uniform # hint: you need to sample from this object"
      ],
      "metadata": {
        "id": "7SchtsMuE6OR"
      },
      "execution_count": null,
      "outputs": []
    },
    {
      "cell_type": "markdown",
      "source": [
        "Try out yourself the following activation functions from the functional module:\n",
        "* relu\n",
        "* tanh\n",
        "* sigmoid\n",
        "* softmax (**remark:** you must normalize with respect to a dimension...)"
      ],
      "metadata": {
        "id": "k51P7kIUH9Xf"
      }
    },
    {
      "cell_type": "code",
      "source": [],
      "metadata": {
        "id": "Mav7g6-BGYV7"
      },
      "execution_count": null,
      "outputs": []
    },
    {
      "cell_type": "markdown",
      "metadata": {
        "_cell_guid": "aa0d5309-ebfc-4291-9206-f316d48536f0",
        "_uuid": "204123a3-5ff2-4b68-9fab-618ef04e76cc",
        "trusted": true,
        "id": "b6nuOJVty5vO"
      },
      "source": [
        "## 3 - Access the information of a tensor\n",
        "Similarly to numpy, pytorch tensors contain useful attributes such as type and shape.\n",
        "\n",
        "Moreover, pytorch tensors can be stored on both CPU and GPU.\n",
        "\n",
        "We now learn how to access those information."
      ]
    },
    {
      "cell_type": "markdown",
      "metadata": {
        "id": "N4C4KqBHy5vP"
      },
      "source": [
        "### 3.1 - Size of a tensor"
      ]
    },
    {
      "cell_type": "code",
      "execution_count": null,
      "metadata": {
        "id": "eRne9pTcy5vP"
      },
      "outputs": [],
      "source": []
    },
    {
      "cell_type": "markdown",
      "metadata": {
        "id": "G0DTCm3zy5vP"
      },
      "source": [
        "**Question:** what is the difference between `size()`, `shape` and `ndim`? Why does `size()` have the brackets?"
      ]
    },
    {
      "cell_type": "markdown",
      "metadata": {
        "id": "uU0xr0JRy5vP"
      },
      "source": [
        "### 3.2 - Type of a tensor"
      ]
    },
    {
      "cell_type": "code",
      "execution_count": null,
      "metadata": {
        "_cell_guid": "6bf4d434-0a0e-4fb2-bef2-98f11bb90a2a",
        "_uuid": "6a10c7b5-3518-44bd-97d6-b8476263e8d2",
        "execution": {
          "iopub.execute_input": "2023-09-22T12:27:12.789071Z",
          "iopub.status.busy": "2023-09-22T12:27:12.788687Z",
          "iopub.status.idle": "2023-09-22T12:27:12.795371Z",
          "shell.execute_reply": "2023-09-22T12:27:12.793461Z",
          "shell.execute_reply.started": "2023-09-22T12:27:12.789037Z"
        },
        "jupyter": {
          "outputs_hidden": false
        },
        "trusted": true,
        "id": "AGfPQPy0y5vP"
      },
      "outputs": [],
      "source": []
    },
    {
      "cell_type": "markdown",
      "metadata": {
        "id": "EhcL0vayy5vP"
      },
      "source": [
        "**Question:** what is the difference between `dtype` and `type`? The `d` should be a hint, not an answer"
      ]
    },
    {
      "cell_type": "markdown",
      "metadata": {
        "id": "N8PKpFOQy5vP"
      },
      "source": [
        "#### Exercise on tensor types\n",
        "* what is the default type of a tensor?\n",
        "* learn how to create a tensor with a hard-coded type.\n",
        "* what happens if you choose int type with float numbers?"
      ]
    },
    {
      "cell_type": "code",
      "execution_count": null,
      "metadata": {
        "_cell_guid": "7e3de926-86a5-489d-b058-74c8041d2ec9",
        "_uuid": "44396c32-2274-43f5-b50b-ad79aa8645b2",
        "execution": {
          "iopub.execute_input": "2023-09-22T12:32:21.322955Z",
          "iopub.status.busy": "2023-09-22T12:32:21.322530Z",
          "iopub.status.idle": "2023-09-22T12:32:21.331924Z",
          "shell.execute_reply": "2023-09-22T12:32:21.330233Z",
          "shell.execute_reply.started": "2023-09-22T12:32:21.322912Z"
        },
        "jupyter": {
          "outputs_hidden": false
        },
        "trusted": true,
        "id": "Q4NEbdj6y5vP"
      },
      "outputs": [],
      "source": []
    },
    {
      "cell_type": "markdown",
      "metadata": {
        "id": "kYe-9ntdy5vb"
      },
      "source": [
        "### 3.3 - Memory location\n",
        "Define a tensor and retrieve the device in which the tensor is stored."
      ]
    },
    {
      "cell_type": "code",
      "execution_count": null,
      "metadata": {
        "id": "g_aMenxYy5vb"
      },
      "outputs": [],
      "source": []
    },
    {
      "cell_type": "markdown",
      "metadata": {
        "id": "1DhnPrc9y5vb"
      },
      "source": [
        "Specify to create a tensor on GPU (**remark:** you have to turn on GPU):"
      ]
    },
    {
      "cell_type": "code",
      "execution_count": null,
      "metadata": {
        "execution": {
          "iopub.execute_input": "2023-09-22T12:55:00.953606Z",
          "iopub.status.busy": "2023-09-22T12:55:00.953210Z",
          "iopub.status.idle": "2023-09-22T12:55:00.961222Z",
          "shell.execute_reply": "2023-09-22T12:55:00.959623Z",
          "shell.execute_reply.started": "2023-09-22T12:55:00.953576Z"
        },
        "trusted": true,
        "id": "Hxo836Gyy5vb"
      },
      "outputs": [],
      "source": [
        "device = \"cuda\" if torch.cuda.is_available() else \"cpu\"      # you will see this line plenty of times!"
      ]
    },
    {
      "cell_type": "markdown",
      "metadata": {
        "id": "CT2oZR4Qy5vb"
      },
      "source": [
        "**Remark 1:** the notebook counts the hours of GPU usage, not the actual usage...  So don't forget to turn it off when you don't need it!\n",
        "\n",
        "**Remark 2:** for apple M1 chips the syntax is:\n",
        "\n",
        "`device = \"mps\" if torch.backends.mps.is_available() else \"cpu\"`"
      ]
    },
    {
      "cell_type": "markdown",
      "metadata": {
        "_cell_guid": "800c6382-d836-4c13-bef8-7fd1a82c36c9",
        "_uuid": "31817e74-95dc-4ab3-9597-293167ebac2b",
        "trusted": true,
        "id": "qvH1_CS9y5vb"
      },
      "source": [
        "## 4 - Manipulating dimensionality\n",
        "\n",
        "We now want to learn how how to manipulate tensors dimensions."
      ]
    },
    {
      "cell_type": "markdown",
      "metadata": {
        "id": "Uv7kg6Jzy5vb"
      },
      "source": [
        "### 4.1 - Reshape a tensor"
      ]
    },
    {
      "cell_type": "markdown",
      "source": [
        "Create a random tensor of shape `(2,3,4)`. Then, use `torch.reshape()` to reshape it into a tensor with the following sizes (you have to guess the correct `x` for each size):\n",
        "* `(2,x)`\n",
        "* `(4,x)`\n",
        "* `(3,x,2)`\n",
        "* `(1,x,24)`"
      ],
      "metadata": {
        "id": "wiZi3mzJ5D1T"
      }
    },
    {
      "cell_type": "code",
      "execution_count": null,
      "metadata": {
        "_cell_guid": "cf77cce4-8533-4766-b430-b0d982ce5a4d",
        "_uuid": "c73d42a0-2689-4685-8080-90785e1636a1",
        "execution": {
          "iopub.execute_input": "2023-09-22T13:05:02.845951Z",
          "iopub.status.busy": "2023-09-22T13:05:02.845581Z",
          "iopub.status.idle": "2023-09-22T13:05:02.855134Z",
          "shell.execute_reply": "2023-09-22T13:05:02.853580Z",
          "shell.execute_reply.started": "2023-09-22T13:05:02.845923Z"
        },
        "jupyter": {
          "outputs_hidden": false
        },
        "trusted": true,
        "id": "mLGy-zNfy5vb"
      },
      "outputs": [],
      "source": []
    },
    {
      "cell_type": "markdown",
      "metadata": {
        "id": "vc3Pfiz9y5vb"
      },
      "source": [
        "**Remark:** also `torch.view()` is used for the same purpose, but it will share the underlying data with the original tensor."
      ]
    },
    {
      "cell_type": "markdown",
      "metadata": {
        "id": "t20hVfDHy5vb"
      },
      "source": [
        "### 4.2 - Concatenate tensors\n",
        "Try to use `torch.cat()` to concatenate two tensors of shape `(2,3,4)` along different dimensions. What will be their output shape?"
      ]
    },
    {
      "cell_type": "code",
      "execution_count": null,
      "metadata": {
        "execution": {
          "iopub.execute_input": "2023-09-22T13:09:54.664282Z",
          "iopub.status.busy": "2023-09-22T13:09:54.663914Z",
          "iopub.status.idle": "2023-09-22T13:09:54.672053Z",
          "shell.execute_reply": "2023-09-22T13:09:54.671124Z",
          "shell.execute_reply.started": "2023-09-22T13:09:54.664252Z"
        },
        "trusted": true,
        "id": "g8_Oan8Iy5vb"
      },
      "outputs": [],
      "source": []
    },
    {
      "cell_type": "markdown",
      "metadata": {
        "id": "7jCU-Xt5y5vc"
      },
      "source": [
        "If you want to concatenate along a new dimension (**don't forget to specify where to insert it!**), you have to use instead the `torch.stack()` method. Try it with different dimensions."
      ]
    },
    {
      "cell_type": "code",
      "execution_count": null,
      "metadata": {
        "execution": {
          "iopub.execute_input": "2023-09-22T13:14:07.755817Z",
          "iopub.status.busy": "2023-09-22T13:14:07.755485Z",
          "iopub.status.idle": "2023-09-22T13:14:07.762954Z",
          "shell.execute_reply": "2023-09-22T13:14:07.761335Z",
          "shell.execute_reply.started": "2023-09-22T13:14:07.755795Z"
        },
        "trusted": true,
        "id": "D9gFvFxiy5vc"
      },
      "outputs": [],
      "source": []
    },
    {
      "cell_type": "markdown",
      "metadata": {
        "id": "6BPUn2_dy5vc"
      },
      "source": [
        "### 4.3 - Add dimensions (and back)\n",
        "Create a tensor of shape `(2, 3, 4)` and insert a new dimension in the last axis using `torch.unsqueeze()` (check its shape).\n",
        "\n",
        "Then, go back to the original tensor using `torch.squeeze()`.\n",
        "**Question:** what happens if I have more than one dimension with size 1? Guess and try it yourself with a tensor of shape `(2, 1, 4, 1)`."
      ]
    },
    {
      "cell_type": "code",
      "execution_count": null,
      "metadata": {
        "execution": {
          "iopub.execute_input": "2023-09-22T13:43:32.698813Z",
          "iopub.status.busy": "2023-09-22T13:43:32.698139Z",
          "iopub.status.idle": "2023-09-22T13:43:32.707039Z",
          "shell.execute_reply": "2023-09-22T13:43:32.705747Z",
          "shell.execute_reply.started": "2023-09-22T13:43:32.698763Z"
        },
        "trusted": true,
        "id": "vkWknQW-y5vc"
      },
      "outputs": [],
      "source": []
    },
    {
      "cell_type": "markdown",
      "metadata": {
        "id": "zSnZCWi1y5vc"
      },
      "source": [
        "### 4.4 - Permute\n",
        "Given a tensor of shape `(2,3,4)`, use the command `torch.permute()` to permutes the dimensione of the tensor. To better understand how it works, it takes a tuple (e.g.  `(2, 0, 1)`) that permutes the order of the dimensions:\n",
        "\n",
        "`dims = (2, 3, 4)`\n",
        "\n",
        "`new_dims = (dims[2], dims[0], dims[1]) = (4, 2, 3)`"
      ]
    },
    {
      "cell_type": "code",
      "execution_count": null,
      "metadata": {
        "_cell_guid": "3e224766-aeff-4756-8828-a7d806fb6e9f",
        "_uuid": "d73ab8e2-9658-4bcd-b42c-7af73249aaf3",
        "execution": {
          "iopub.execute_input": "2023-09-20T15:50:58.30047Z",
          "iopub.status.busy": "2023-09-20T15:50:58.300101Z",
          "iopub.status.idle": "2023-09-20T15:50:58.307482Z",
          "shell.execute_reply": "2023-09-20T15:50:58.306421Z",
          "shell.execute_reply.started": "2023-09-20T15:50:58.30044Z"
        },
        "jupyter": {
          "outputs_hidden": false
        },
        "trusted": true,
        "id": "yuxK_ygqy5vc"
      },
      "outputs": [],
      "source": []
    },
    {
      "cell_type": "markdown",
      "metadata": {
        "_cell_guid": "eed21dd3-726a-4ebe-b812-deb71cdc8694",
        "_uuid": "90514417-3230-419f-bada-ed15a8a3e098",
        "trusted": true,
        "id": "N0fQc7G8y5vc"
      },
      "source": [
        "### 4.5 - Slicing, accessing elements\n",
        "These operations are performed in the same way as `numpy`. Make sure you have understand these operations in that case. To provide you an example:"
      ]
    },
    {
      "cell_type": "code",
      "execution_count": null,
      "metadata": {
        "_cell_guid": "7c6ab4c2-5e6f-4ba7-8bf4-018bf765971d",
        "_uuid": "15824dd4-a627-46e3-bab1-eb170b9b288a",
        "execution": {
          "iopub.execute_input": "2023-09-22T13:47:43.123952Z",
          "iopub.status.busy": "2023-09-22T13:47:43.123589Z",
          "iopub.status.idle": "2023-09-22T13:47:43.136230Z",
          "shell.execute_reply": "2023-09-22T13:47:43.135479Z",
          "shell.execute_reply.started": "2023-09-22T13:47:43.123924Z"
        },
        "jupyter": {
          "outputs_hidden": false
        },
        "trusted": true,
        "colab": {
          "base_uri": "https://localhost:8080/"
        },
        "id": "3qH8Og2xy5vd",
        "outputId": "9f349e44-b953-4dcd-e354-c0c5de124332"
      },
      "outputs": [
        {
          "output_type": "stream",
          "name": "stdout",
          "text": [
            "tensor([[ 0,  1,  2,  3,  4,  5],\n",
            "        [ 6,  7,  8,  9, 10, 11],\n",
            "        [12, 13, 14, 15, 16, 17],\n",
            "        [18, 19, 20, 21, 22, 23],\n",
            "        [24, 25, 26, 27, 28, 29],\n",
            "        [30, 31, 32, 33, 34, 35]])\n",
            "tensor(23)\n"
          ]
        }
      ],
      "source": [
        "n = torch.arange(0, 36).reshape((6, 6))\n",
        "print(n)\n",
        "print(n[3, 5])  # access a single element"
      ]
    },
    {
      "cell_type": "markdown",
      "source": [
        "Now try to access the \"core\" 2x2 matrix of the tensor `n`, i.e. the block:\n",
        "\n",
        "$\\begin{pmatrix}\n",
        "  14 & 15 \\\\\n",
        "  20 & 21\n",
        " \\end{pmatrix}$"
      ],
      "metadata": {
        "id": "lhxt_V3WBz0t"
      }
    },
    {
      "cell_type": "code",
      "source": [],
      "metadata": {
        "id": "Yj-r7mgqDG45"
      },
      "execution_count": null,
      "outputs": []
    },
    {
      "cell_type": "markdown",
      "metadata": {
        "id": "V0wUlSwsy5vd"
      },
      "source": [
        "**Question:** Is `n[3,5]` an integer from a \"python\" point of view? Check out the `item()` method."
      ]
    },
    {
      "cell_type": "markdown",
      "metadata": {
        "id": "EFFMZExmy5vd"
      },
      "source": [
        "## 5 - Gradients\n",
        "Pytorch allows us to compute the gradient using automatic differentiation.\n",
        "\n",
        "Every `torch.tensor` has an attribute `requires_grad`, which specifies if the gradient must be computed for that tensor. By default, the attribute is set to false (try it out yourself).\n",
        "\n",
        "Try to create a tensor with `requires_grad=True` and use `detach()` to create a copy of the tensor with `requires_grad=False`."
      ]
    },
    {
      "cell_type": "code",
      "execution_count": null,
      "metadata": {
        "execution": {
          "iopub.execute_input": "2023-09-22T14:19:34.874071Z",
          "iopub.status.busy": "2023-09-22T14:19:34.873706Z",
          "iopub.status.idle": "2023-09-22T14:19:34.883158Z",
          "shell.execute_reply": "2023-09-22T14:19:34.881513Z",
          "shell.execute_reply.started": "2023-09-22T14:19:34.874042Z"
        },
        "trusted": true,
        "id": "Iqg0_hlKy5vd"
      },
      "outputs": [],
      "source": []
    },
    {
      "cell_type": "markdown",
      "metadata": {
        "id": "1d-bjdQ2y5vd"
      },
      "source": [
        "We now want to analyze how gradient is propagated. We define two tensors `x` and `y` with `requires_grad=True` and a variable `z` which is a function of `x` and `y`. Then, we compute the gradient using `backward()` and print the gradient associated to each variable.\n",
        "\n"
      ]
    },
    {
      "cell_type": "code",
      "execution_count": null,
      "metadata": {
        "execution": {
          "iopub.execute_input": "2023-09-22T13:59:09.999998Z",
          "iopub.status.busy": "2023-09-22T13:59:09.999506Z",
          "iopub.status.idle": "2023-09-22T13:59:10.019036Z",
          "shell.execute_reply": "2023-09-22T13:59:10.016528Z",
          "shell.execute_reply.started": "2023-09-22T13:59:09.999962Z"
        },
        "trusted": true,
        "id": "WfSwwwbEy5vd"
      },
      "outputs": [],
      "source": [
        "x = torch.tensor([1.2], requires_grad = True)\n",
        "y = torch.tensor([2.], requires_grad = True)\n",
        "z = x*x + 3*y\n",
        "# TODO"
      ]
    },
    {
      "cell_type": "markdown",
      "metadata": {
        "id": "Ai_YL36Jy5vd"
      },
      "source": [
        "#### Questions\n",
        "* If instead the variable `z` does not depend on `y`, what happens if I try to print the gradient associated to `y`?\n",
        "* What happens if I try to define an integer tensor with `requires_grad=True`?\n",
        "* What happens if I try to compute again the gradient of `z`? (**Hint:** check out `torch.optim.optimizer.zero_grad`)\n",
        "* What happens if I call `numpy()` on a tensor that has `requires_grad=True`?\n",
        "\n",
        "Try to answer\n"
      ]
    },
    {
      "cell_type": "markdown",
      "source": [
        "Note that the gradient accumulate over multiple backward calls of computations involving that tensor, unless explicitely told otherwise."
      ],
      "metadata": {
        "id": "DQiJNjY9ngMl"
      }
    }
  ],
  "metadata": {
    "kernelspec": {
      "display_name": "Python 3",
      "name": "python3"
    },
    "language_info": {
      "codemirror_mode": {
        "name": "ipython",
        "version": 3
      },
      "file_extension": ".py",
      "mimetype": "text/x-python",
      "name": "python",
      "nbconvert_exporter": "python",
      "pygments_lexer": "ipython3",
      "version": "3.10.12"
    },
    "colab": {
      "provenance": [],
      "gpuType": "T4"
    },
    "accelerator": "GPU"
  },
  "nbformat": 4,
  "nbformat_minor": 0
}