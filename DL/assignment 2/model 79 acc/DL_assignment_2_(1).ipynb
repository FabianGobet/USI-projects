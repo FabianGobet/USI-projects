{
  "nbformat": 4,
  "nbformat_minor": 0,
  "metadata": {
    "colab": {
      "provenance": [],
      "gpuType": "T4"
    },
    "kernelspec": {
      "name": "python3",
      "display_name": "Python 3"
    },
    "language_info": {
      "name": "python"
    },
    "accelerator": "GPU"
  },
  "cells": [
    {
      "cell_type": "code",
      "source": [
        "'''\n",
        "Assignment 2\n",
        "Student: Fabian Gobet\n",
        "'''\n",
        "# *** Packges ***\n",
        "import torch\n",
        "import torch.nn as nn\n",
        "from torch.utils.data import TensorDataset, DataLoader\n",
        "import torch.nn.functional as F\n",
        "import torch.optim as optim\n",
        "import torchvision\n",
        "import torchvision.transforms as transforms\n",
        "import matplotlib.pyplot as plt\n",
        "from sklearn.model_selection import train_test_split\n",
        "#import torch.optim.lr_scheduler as lr_scheduler\n",
        "\n",
        "plt.rcParams['mathtext.fontset'] = 'cm'\n",
        "plt.rcParams['font.family'] = 'STIXGeneral'"
      ],
      "metadata": {
        "id": "6uZj4r12H9DW"
      },
      "execution_count": 2,
      "outputs": []
    },
    {
      "cell_type": "code",
      "source": [
        "# *** Functions ***\n",
        "def histo(dataset, set_name):\n",
        "    labels = dataset.classes\n",
        "    counts = [0 for _ in labels]\n",
        "    dic = {c:None for c in labels}\n",
        "\n",
        "    for img, lbl in dataset:\n",
        "        if dic[labels[lbl]] is None:\n",
        "            dic[labels[lbl]] = img\n",
        "        counts[lbl] = counts[lbl]+1\n",
        "\n",
        "    fig = plt.figure(figsize=(10,5))\n",
        "    fig.suptitle(set_name+\" class image sample\")\n",
        "    for i in range(1,11):\n",
        "        ax = fig.add_subplot(2,5,i)\n",
        "        ax.imshow(dic[labels[i-1]])\n",
        "        ax.axis('off')\n",
        "        ax.set_title(labels[i-1])\n",
        "    plt.show()\n",
        "\n",
        "    fig, ax = plt.subplots(figsize=(10,5))\n",
        "    fig.suptitle(set_name+\" frequency per class\")\n",
        "    plt.bar(dataset.classes, counts)\n",
        "    plt.xticks(fontsize=8)\n",
        "    plt.ylabel(\"frequency\")\n",
        "    plt.show()\n",
        "\n",
        "def plot_results(x,y1,y2,ylabel,label1,label2,title,save_name=None,show=False,color1='blue',color2='green'):\n",
        "        fig, _ = plt.subplots(figsize=(7,5))\n",
        "        fig.suptitle(title)\n",
        "        plt.plot(x, y1, color=color1, label=label1)\n",
        "        plt.plot(x, y2, color=color2, label=label2)\n",
        "        plt.xlabel(\"steps\")\n",
        "        plt.ylabel(ylabel)\n",
        "        plt.legend()\n",
        "        if(save_name is not None):\n",
        "            plt.savefig(save_name)\n",
        "        if(show):\n",
        "            plt.show()\n",
        "\n",
        "\n",
        "def loss_acc_message(epoch,num_epochs,step,max_steps,train_loss,val_loss,train_acc,val_acc):\n",
        "    print(f\"Epoch {epoch}/{num_epochs}, Step {step}/{max_steps}\")\n",
        "    print(f\"Train -> accuracy: {train_acc[-1]*100:.2f}, loss: {train_loss[-1]:.4f}\")\n",
        "    print(f\"Validation -> accuracy: {val_acc[-1]*100:.2f}, loss: {val_loss[-1]:.4f}\\n\")"
      ],
      "metadata": {
        "id": "ytzjWN9BIAsz"
      },
      "execution_count": 3,
      "outputs": []
    },
    {
      "cell_type": "code",
      "source": [
        "if __name__ == \"__main__\":\n",
        "    # Set the seed for reproducibility\n",
        "    manual_seed = 42\n",
        "    torch.manual_seed(manual_seed)\n",
        "\n",
        "\n",
        "    # 1.1.1\n",
        "    dataset_train = torchvision.datasets.CIFAR10(root='./data', train=True, download=True)\n",
        "    dataset_test = torchvision.datasets.CIFAR10(root='./data', train=False, download=True)\n",
        "    #histo(dataset_train, \"Cifar10 train set\")\n",
        "    #histo(dataset_test, \"Cifar10 test set\")"
      ],
      "metadata": {
        "colab": {
          "base_uri": "https://localhost:8080/"
        },
        "id": "DKuDTYOKIHo1",
        "outputId": "e265905e-a48f-42c6-9036-540cabd2c913"
      },
      "execution_count": 4,
      "outputs": [
        {
          "output_type": "stream",
          "name": "stdout",
          "text": [
            "Files already downloaded and verified\n",
            "Files already downloaded and verified\n"
          ]
        }
      ]
    },
    {
      "cell_type": "code",
      "source": [
        "    # 1.1.2\n",
        "    sample = dataset_train[0]\n",
        "    print(f\"\\n1.1.2: dataset_train[0].shape -> type: {type(sample)}\")\n",
        "    for i in sample:\n",
        "        print(f\"1.1.2: type(dataset_train[0]) components -> type: {type(i)}\")\n",
        "\n",
        "    transform1 = transforms.ToTensor()\n",
        "    dataset_train.transform = transform1\n",
        "    dataset_test.transform = transform1\n",
        "\n",
        "\n",
        "    sample = dataset_train[0]\n",
        "    print(f\"1.1.2: transform1(dataset_train[0]) -> type: {type(sample)}\")\n",
        "    for i in sample:\n",
        "        print(f\"1.1.2: type(transform1(dataset_train[0])) components -> type: {type(i)}\")\n",
        "    i,_ = sample\n",
        "    print(f\"1.1.2: type(transform1(dataset_train[0][0]))  -> shape: {i.shape}, dtype: {i.dtype}\\n\")"
      ],
      "metadata": {
        "colab": {
          "base_uri": "https://localhost:8080/"
        },
        "id": "x5VUUhszIMJ2",
        "outputId": "910d6ee1-c9ad-4d11-d35c-ffda22baa631"
      },
      "execution_count": 5,
      "outputs": [
        {
          "output_type": "stream",
          "name": "stdout",
          "text": [
            "\n",
            "1.1.2: dataset_train[0].shape -> type: <class 'tuple'>\n",
            "1.1.2: type(dataset_train[0]) components -> type: <class 'PIL.Image.Image'>\n",
            "1.1.2: type(dataset_train[0]) components -> type: <class 'int'>\n",
            "1.1.2: transform1(dataset_train[0]) -> type: <class 'tuple'>\n",
            "1.1.2: type(transform1(dataset_train[0])) components -> type: <class 'torch.Tensor'>\n",
            "1.1.2: type(transform1(dataset_train[0])) components -> type: <class 'int'>\n",
            "1.1.2: type(transform1(dataset_train[0][0]))  -> shape: torch.Size([3, 32, 32]), dtype: torch.float32\n",
            "\n"
          ]
        }
      ]
    },
    {
      "cell_type": "code",
      "source": [
        "    # 1.1.3\n",
        "    transform2 = transforms.Compose([transforms.ToTensor(),transforms.Normalize((0.5,0.5,0.5),(0.5,0.5,0.5))])\n",
        "    transform3 = transforms.Compose([transforms.RandomHorizontalFlip(),transforms.ColorJitter(brightness=0.2, contrast=0.2, saturation=0.2),transforms.ToTensor(),transforms.Normalize((0.5,0.5,0.5),(0.5,0.5,0.5))])\n",
        "    dataset_train.transform = transform3\n",
        "    dataset_test.transform = transform2"
      ],
      "metadata": {
        "id": "B8TeockKIPz6"
      },
      "execution_count": 6,
      "outputs": []
    },
    {
      "cell_type": "code",
      "source": [
        "    # 1.1.4\n",
        "    dataset_train, dataset_val = train_test_split(dataset_train, test_size=0.2, random_state=42, shuffle=True)\n",
        "    #print(f\"1.1.4: train_data, train_labels -> type: {type(train_data)}, {type(train_labels)}\")\n",
        "    #print(f\"1.1.4: train_data -> shape: {train_data.shape}\\n\")\n",
        "\n",
        "    #train_data = torch.FloatTensor(train_data).permute(0,3,1,2)\n",
        "    #val_data = torch.FloatTensor(val_data).permute(0,3,1,2)\n",
        "    #test_data = torch.FloatTensor(dataset_test.data).permute(0,3,1,2)\n",
        "    #train_labels = torch.LongTensor(train_labels)\n",
        "    #val_labels = torch.LongTensor(val_labels)\n",
        "    #test_labels = torch.LongTensor(dataset_test.targets)\n",
        "    '''\n",
        "    print(f\"1.1.4: train_data -> shape: {train_data.shape}, dtype: {train_data.dtype}\")\n",
        "    print(f\"1.1.4: train_labels -> shape: {train_labels.shape}, dtype: {train_labels.dtype}\")\n",
        "    print(f\"1.1.4: val_data -> shape: {val_data.shape}, dtype: {val_data.dtype}\")\n",
        "    print(f\"1.1.4: val_labels -> shape: {val_labels.shape}, dtype: {val_labels.dtype}\")\n",
        "    print(f\"1.1.4: test_data -> shape: {test_data.shape}, dtype: {test_data.dtype}\")\n",
        "    print(f\"1.1.4: test_labels -> shape: {test_labels.shape}, dtype: {test_labels.dtype}\\n\")\n",
        "    '''\n",
        "    sample = dataset_train[0]\n",
        "    print(f\"1.1.2: transform1(dataset_train[0]) -> type: {type(sample)}\")\n",
        "    for i in sample:\n",
        "        print(f\"1.1.2: type(transform1(dataset_train[0])) components -> type: {type(i)}\")\n",
        "    print(dataset_train[0][0].shape)"
      ],
      "metadata": {
        "colab": {
          "base_uri": "https://localhost:8080/"
        },
        "id": "4PHuI6maITOW",
        "outputId": "9b24395b-4e30-424b-a7ad-41c32e365ead"
      },
      "execution_count": 7,
      "outputs": [
        {
          "output_type": "stream",
          "name": "stdout",
          "text": [
            "1.1.2: transform1(dataset_train[0]) -> type: <class 'tuple'>\n",
            "1.1.2: type(transform1(dataset_train[0])) components -> type: <class 'torch.Tensor'>\n",
            "1.1.2: type(transform1(dataset_train[0])) components -> type: <class 'int'>\n",
            "torch.Size([3, 32, 32])\n"
          ]
        }
      ]
    },
    {
      "cell_type": "code",
      "source": [
        "    # 1.2\n",
        "    class myNet(nn.Module):\n",
        "        def __init__(self):\n",
        "            super().__init__()\n",
        "            self.conv1 = nn.Conv2d(3, 16, 3, 1, padding=1,bias=False) # 32 16\n",
        "            self.bn1 = nn.BatchNorm2d(16)\n",
        "            self.conv2 = nn.Conv2d(16, 32, 3, 1, padding=1,bias=False) # 16 8\n",
        "            self.bn2 = nn.BatchNorm2d(32)\n",
        "            self.conv3 = nn.Conv2d(32, 64, 3, 1, padding=1,bias=False) # 8 4\n",
        "            self.bn3 = nn.BatchNorm2d(64)\n",
        "\n",
        "            self.pool1 = nn.MaxPool2d(kernel_size=(2,2),stride=2)\n",
        "\n",
        "            self.fc1 = nn.Linear(4*4*64, 500,bias=False)\n",
        "            self.fc2 = nn.Linear(500, 10,bias=False)\n",
        "\n",
        "            self.drop1 = nn.Dropout(0.5)\n",
        "\n",
        "\n",
        "        def forward(self,x):\n",
        "            x = self.bn1(F.relu(self.conv1(x)))\n",
        "            x = self.pool1(x)\n",
        "            x = self.bn2(F.relu(self.conv2(x)))\n",
        "            x = self.pool1(x)\n",
        "            x = self.bn3(F.relu(self.conv3(x)))\n",
        "            x = self.pool1(x)\n",
        "            x = self.drop1(x)\n",
        "\n",
        "            x = x.view(-1,4*4*64)\n",
        "            x = F.relu(self.fc1(x))\n",
        "            x = self.drop1(x)\n",
        "            x = self.fc2(x)\n",
        "            return x"
      ],
      "metadata": {
        "id": "NvVcurjSIWvs"
      },
      "execution_count": 8,
      "outputs": []
    },
    {
      "cell_type": "code",
      "source": [
        "    # 1.3.1\n",
        "    batch_size = 32\n",
        "    num_epochs = 30\n",
        "    learning_rate = 7e-4\n",
        "    weight_decay = 1e-5\n",
        "    max_steps = -((-len(dataset_train)*num_epochs)//batch_size)\n",
        "    n = max_steps//25"
      ],
      "metadata": {
        "id": "XqCh3Lm6k1oK"
      },
      "execution_count": 18,
      "outputs": []
    },
    {
      "cell_type": "code",
      "source": [
        "    train_loader = DataLoader(dataset=dataset_train, batch_size=batch_size, num_workers=2, shuffle=True)\n",
        "    val_loader = DataLoader(dataset=dataset_val, batch_size=len(dataset_val), num_workers=2)\n",
        "    test_loader = DataLoader(dataset=dataset_test, batch_size=len(dataset_test), num_workers=2)"
      ],
      "metadata": {
        "id": "HP_EeU7dk7wg"
      },
      "execution_count": 10,
      "outputs": []
    },
    {
      "cell_type": "code",
      "source": [
        "    def count_parameters(model):\n",
        "      parameters = [p.numel() for p in model.parameters() if p.requires_grad]\n",
        "      print(f\"Parameters count list -> {parameters}\")\n",
        "      print(f\"Total parameters -> {sum(parameters)}\")\n",
        "\n",
        "\n",
        "    DEVICE = torch.device(\"cuda:0\" if torch.cuda.is_available() else \"cpu\")\n",
        "    model = myNet().to(DEVICE)\n",
        "\n",
        "    optimizer = optim.Adam(model.parameters(), lr=learning_rate, weight_decay=weight_decay)\n",
        "    loss_fn = nn.CrossEntropyLoss()\n",
        "    #scheduler = lr_scheduler.LinearLR(optimizer, start_factor=1.0, end_factor=0.5, total_iters=max_steps)\n",
        "    count_parameters(model)\n",
        "    #print(f\"1.3: {model}\")\n",
        "    #print(f\"1.3: {optimizer}\")\n",
        "\n",
        "    train_acc = []\n",
        "    val_acc = []\n",
        "    train_loss = []\n",
        "    val_loss = []\n",
        "    step_indices = [0]\n",
        "    step = 0\n",
        "\n",
        "\n",
        "    # Initialize lists on step 0\n",
        "    with torch.no_grad():\n",
        "      model.eval()\n",
        "      for i, (d,t) in enumerate([next(iter(train_loader)), next(iter(val_loader))],0):\n",
        "        d = d.to(DEVICE)\n",
        "        t = t.to(DEVICE)\n",
        "        t_yhat = model(d)\n",
        "        _, pred = torch.max(t_yhat.data,1)\n",
        "        corr = (pred == t).sum().item()\n",
        "        t_loss = loss_fn(t_yhat,t)\n",
        "        if i==0:\n",
        "            train_loss.append(t_loss.item())\n",
        "            train_acc.append(corr/len(t))\n",
        "        else:\n",
        "            val_loss.append(t_loss.item())\n",
        "            val_acc.append(corr/len(t))"
      ],
      "metadata": {
        "colab": {
          "base_uri": "https://localhost:8080/"
        },
        "id": "3y1DNA1AlY0z",
        "outputId": "d3895b82-2a48-4d37-b51a-af6a552fae0e"
      },
      "execution_count": 19,
      "outputs": [
        {
          "output_type": "stream",
          "name": "stdout",
          "text": [
            "Parameters count list -> [432, 16, 16, 4608, 32, 32, 18432, 64, 64, 512000, 5000]\n",
            "Total parameters -> 540696\n"
          ]
        }
      ]
    },
    {
      "cell_type": "code",
      "source": [
        "    # 1.3.2\n",
        "    running = [0.0,0,0]\n",
        "    loss_acc_message(0,num_epochs,step,max_steps,train_loss,val_loss,train_acc,val_acc)\n",
        "    for epoch in range(1,num_epochs+1):\n",
        "        for batch_num, (t_data,t_targets) in enumerate(train_loader,1):\n",
        "            step = step + 1\n",
        "            running[2] = running[2]+1\n",
        "            model.train()\n",
        "            t_data = t_data.to(DEVICE)\n",
        "            t_targets = t_targets.to(DEVICE)\n",
        "\n",
        "            t_yhat = model(t_data)\n",
        "\n",
        "            t_loss = loss_fn(t_yhat,t_targets)\n",
        "            running[0] = running[0] + t_loss.item()\n",
        "            _, t_pred = torch.max(t_yhat.data,1)\n",
        "            running[1] = running[1] + (t_pred == t_targets).sum().item()\n",
        "            t_loss.backward()\n",
        "\n",
        "            if step%n==0 or step==max_steps:\n",
        "\n",
        "                step_indices.append(step)\n",
        "\n",
        "                train_loss.append(running[0]/running[2])\n",
        "                train_acc.append(running[1]/(running[2]*len(t_targets)))\n",
        "                running = [0.0,0,0]\n",
        "\n",
        "                with torch.no_grad():\n",
        "                    model.eval()\n",
        "                    for val_data, val_labels in val_loader:\n",
        "                      val_data = val_data.to(DEVICE)\n",
        "                      val_labels = val_labels.to(DEVICE)\n",
        "\n",
        "                      v_yhat = model(val_data)\n",
        "\n",
        "                      _, v_pred = torch.max(v_yhat.data,1)\n",
        "                      v_correct = (v_pred == val_labels).sum().item()\n",
        "                      val_acc.append(v_correct/len(val_labels))\n",
        "\n",
        "                      v_loss = loss_fn(v_yhat,val_labels)\n",
        "                      val_loss.append(v_loss.item())\n",
        "\n",
        "                loss_acc_message(epoch,num_epochs,step,max_steps,train_loss,val_loss,train_acc,val_acc)\n",
        "\n",
        "            optimizer.step()\n",
        "            optimizer.zero_grad()\n",
        "            #scheduler.step()"
      ],
      "metadata": {
        "colab": {
          "base_uri": "https://localhost:8080/"
        },
        "id": "F5IfHIFIIcla",
        "outputId": "d884bb6e-ef9c-43c3-fba7-539c0d285ab7"
      },
      "execution_count": 20,
      "outputs": [
        {
          "output_type": "stream",
          "name": "stdout",
          "text": [
            "Epoch 0/30, Step 0/37500\n",
            "Train -> accuracy: 15.62, loss: 2.3026\n",
            "Validation -> accuracy: 10.65, loss: 2.3028\n",
            "\n",
            "Epoch 2/30, Step 1500/37500\n",
            "Train -> accuracy: 46.92, loss: 1.4751\n",
            "Validation -> accuracy: 61.05, loss: 1.0896\n",
            "\n",
            "Epoch 3/30, Step 3000/37500\n",
            "Train -> accuracy: 59.18, loss: 1.1471\n",
            "Validation -> accuracy: 66.25, loss: 0.9481\n",
            "\n",
            "Epoch 4/30, Step 4500/37500\n",
            "Train -> accuracy: 63.64, loss: 1.0297\n",
            "Validation -> accuracy: 70.09, loss: 0.8534\n",
            "\n",
            "Epoch 5/30, Step 6000/37500\n",
            "Train -> accuracy: 66.15, loss: 0.9665\n",
            "Validation -> accuracy: 71.75, loss: 0.8176\n",
            "\n",
            "Epoch 6/30, Step 7500/37500\n",
            "Train -> accuracy: 68.20, loss: 0.9100\n",
            "Validation -> accuracy: 73.47, loss: 0.7690\n",
            "\n",
            "Epoch 8/30, Step 9000/37500\n",
            "Train -> accuracy: 69.81, loss: 0.8610\n",
            "Validation -> accuracy: 74.80, loss: 0.7404\n",
            "\n",
            "Epoch 9/30, Step 10500/37500\n",
            "Train -> accuracy: 70.95, loss: 0.8284\n",
            "Validation -> accuracy: 74.65, loss: 0.7405\n",
            "\n",
            "Epoch 10/30, Step 12000/37500\n",
            "Train -> accuracy: 71.90, loss: 0.7993\n",
            "Validation -> accuracy: 75.21, loss: 0.7047\n",
            "\n",
            "Epoch 11/30, Step 13500/37500\n",
            "Train -> accuracy: 73.06, loss: 0.7764\n",
            "Validation -> accuracy: 75.83, loss: 0.6974\n",
            "\n",
            "Epoch 12/30, Step 15000/37500\n",
            "Train -> accuracy: 73.78, loss: 0.7518\n",
            "Validation -> accuracy: 75.74, loss: 0.7017\n",
            "\n",
            "Epoch 14/30, Step 16500/37500\n",
            "Train -> accuracy: 74.84, loss: 0.7179\n",
            "Validation -> accuracy: 77.34, loss: 0.6730\n",
            "\n",
            "Epoch 15/30, Step 18000/37500\n",
            "Train -> accuracy: 75.34, loss: 0.7072\n",
            "Validation -> accuracy: 76.88, loss: 0.6744\n",
            "\n",
            "Epoch 16/30, Step 19500/37500\n",
            "Train -> accuracy: 75.96, loss: 0.6910\n",
            "Validation -> accuracy: 77.63, loss: 0.6575\n",
            "\n",
            "Epoch 17/30, Step 21000/37500\n",
            "Train -> accuracy: 76.39, loss: 0.6792\n",
            "Validation -> accuracy: 77.22, loss: 0.6664\n",
            "\n",
            "Epoch 18/30, Step 22500/37500\n",
            "Train -> accuracy: 76.83, loss: 0.6593\n",
            "Validation -> accuracy: 77.79, loss: 0.6542\n",
            "\n",
            "Epoch 20/30, Step 24000/37500\n",
            "Train -> accuracy: 77.49, loss: 0.6371\n",
            "Validation -> accuracy: 78.60, loss: 0.6260\n",
            "\n",
            "Epoch 21/30, Step 25500/37500\n",
            "Train -> accuracy: 78.06, loss: 0.6291\n",
            "Validation -> accuracy: 78.50, loss: 0.6323\n",
            "\n",
            "Epoch 22/30, Step 27000/37500\n",
            "Train -> accuracy: 78.15, loss: 0.6179\n",
            "Validation -> accuracy: 78.23, loss: 0.6326\n",
            "\n",
            "Epoch 23/30, Step 28500/37500\n",
            "Train -> accuracy: 78.50, loss: 0.6120\n",
            "Validation -> accuracy: 77.93, loss: 0.6378\n",
            "\n",
            "Epoch 24/30, Step 30000/37500\n",
            "Train -> accuracy: 78.85, loss: 0.5990\n",
            "Validation -> accuracy: 78.14, loss: 0.6231\n",
            "\n",
            "Epoch 26/30, Step 31500/37500\n",
            "Train -> accuracy: 79.37, loss: 0.5865\n",
            "Validation -> accuracy: 78.87, loss: 0.6107\n",
            "\n",
            "Epoch 27/30, Step 33000/37500\n",
            "Train -> accuracy: 79.65, loss: 0.5796\n",
            "Validation -> accuracy: 77.67, loss: 0.6422\n",
            "\n",
            "Epoch 28/30, Step 34500/37500\n",
            "Train -> accuracy: 80.13, loss: 0.5663\n",
            "Validation -> accuracy: 79.10, loss: 0.6138\n",
            "\n",
            "Epoch 29/30, Step 36000/37500\n",
            "Train -> accuracy: 80.05, loss: 0.5713\n",
            "Validation -> accuracy: 78.44, loss: 0.6260\n",
            "\n",
            "Epoch 30/30, Step 37500/37500\n",
            "Train -> accuracy: 80.38, loss: 0.5572\n",
            "Validation -> accuracy: 79.49, loss: 0.6084\n",
            "\n"
          ]
        }
      ]
    },
    {
      "cell_type": "code",
      "source": [
        "    with torch.no_grad():\n",
        "        model.eval()\n",
        "        for test_data, test_labels in test_loader:\n",
        "          test_data = test_data.to(DEVICE)\n",
        "          test_labels = test_labels.to(DEVICE)\n",
        "          test_yhat = model(test_data)\n",
        "          _, test_pred = torch.max(test_yhat,1)\n",
        "          test_corr = (test_pred == test_labels).sum().item()\n",
        "          acc = (test_corr*100)/len(test_labels)\n",
        "          print(f\"Test -> accuracy: {acc:.2f}\\n\")"
      ],
      "metadata": {
        "colab": {
          "base_uri": "https://localhost:8080/"
        },
        "id": "PU84ZeNW92_O",
        "outputId": "44ed34b0-e85c-4add-c0a8-bd514dd63b8a"
      },
      "execution_count": 21,
      "outputs": [
        {
          "output_type": "stream",
          "name": "stdout",
          "text": [
            "Test -> accuracy: 79.62\n",
            "\n"
          ]
        }
      ]
    },
    {
      "cell_type": "code",
      "source": [
        "    # 1.3.3\n",
        "    checkpoint = {\n",
        "        'model_state' : model.state_dict(),\n",
        "        'optimizer' : optimizer.state_dict()\n",
        "    }\n",
        "\n",
        "    torch.save(checkpoint, 'Fabian_Gobet_1.pt')"
      ],
      "metadata": {
        "id": "DZfAT-wYIpGG"
      },
      "execution_count": 22,
      "outputs": []
    },
    {
      "cell_type": "code",
      "execution_count": 23,
      "metadata": {
        "colab": {
          "base_uri": "https://localhost:8080/",
          "height": 1000
        },
        "id": "MhxOiUhGHnF9",
        "outputId": "efc17989-2050-4140-c5d2-daf4b2271c9c"
      },
      "outputs": [
        {
          "output_type": "display_data",
          "data": {
            "text/plain": [
              "<Figure size 700x500 with 1 Axes>"
            ],
            "image/png": "[encoded data removed]"
          },
          "metadata": {}
        },
        {
          "output_type": "display_data",
          "data": {
            "text/plain": [
              "<Figure size 700x500 with 1 Axes>"
            ],
            "image/png": "[encoded data removed]"
          },
          "metadata": {}
        }
      ],
      "source": [
        "    # 1.3.4\n",
        "    plot_results(step_indices,train_loss,val_loss,'loss','train loss','validation loss','Train/Validation losses',show=True)#, save_name=\"losses\")\n",
        "    plot_results(step_indices,torch.tensor(train_acc)*100,torch.tensor(val_acc)*100,'% accuracy','train accuracy','validation accuracy','Train/Validation accuracies',show=True)#, save_name=\"accs\")"
      ]
    },
    {
      "cell_type": "code",
      "source": [
        "   '''\n",
        "    Code for bonus question\n",
        "    '''\n",
        "    for seed in range(10):\n",
        "        torch.manual_seed(seed)\n",
        "        # Train the models here"
      ],
      "metadata": {
        "id": "GxJhJ707IttN"
      },
      "execution_count": null,
      "outputs": []
    }
  ]
}