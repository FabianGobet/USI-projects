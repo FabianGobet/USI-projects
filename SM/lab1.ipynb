{
 "cells": [
  {
   "cell_type": "code",
   "execution_count": 1,
   "metadata": {},
   "outputs": [],
   "source": [
    "import random\n",
    "import numpy as np\n",
    "import matplotlib.pyplot as plt\n",
    "from functools import partial\n",
    "import math"
   ]
  },
  {
   "cell_type": "code",
   "execution_count": 200,
   "metadata": {},
   "outputs": [],
   "source": [
    "def inverse_exponential(random_uniform, lamb):\n",
    "    return -np.log(1 - random_uniform) / lamb\n",
    "\n",
    "def exponential_distribution(x, lamb):\n",
    "    return lamb*np.exp(-lamb*x)\n",
    "\n",
    "def bernoulli(random_uniform, p):\n",
    "    return 1 if random.uniform(0, 1) < p else 0\n",
    "\n",
    "def binomial_distribution(k, n, p):\n",
    "    return np.math.comb(n, k) * p**k * (1-p)**(n-k)\n",
    "\n",
    "def inverse_binomial(random_uniform, n, p):\n",
    "    return sum(bernoulli(random_uniform, p) for _ in range(n))\n",
    "\n",
    "def empirical_theoretical_overlay(empirical_func, theoretical_func, number_samples, number_discrete_bins = 100):\n",
    "    X = np.array([0]*number_samples, dtype=float)\n",
    "    Y = np.array([0]*number_samples, dtype=float)\n",
    "    for i in range(number_samples):\n",
    "        Y[i] = random.uniform(0, 1)\n",
    "        X[i] = empirical_func(Y[i])\n",
    "\n",
    "    plt.hist(X, bins=number_discrete_bins, density=True, alpha=0.6, color='g', label='Empirical')\n",
    "    x = np.linspace(0, max(X), number_samples)\n",
    "    y = theoretical_func(x)\n",
    "    plt.plot(x, y, 'r', label='Theoretical')\n",
    "    plt.legend(loc='upper right')\n",
    "    plt.show()\n",
    "\n",
    "def empirical_theoretical_chisquared(empirical_func, theoretical_func, number_samples=1000, number_bins=1000):\n",
    "    X = np.array([0]*number_samples, dtype=float)\n",
    "    for i in range(number_samples):\n",
    "        y = random.uniform(0, 1)\n",
    "        X[i] = empirical_func(y)\n",
    "\n",
    "    hist, bins = np.histogram(X, bins=number_bins, density=True)\n",
    "    approx_e = []\n",
    "    approx_t = []\n",
    "\n",
    "    for i in range(len(bins)-1):\n",
    "        approx_e.append((bins[i+1] - bins[i])*hist[i])\n",
    "\n",
    "    for i in range(len(bins)-1):\n",
    "        x = np.linspace(bins[i], bins[i+1], number_samples)\n",
    "        approx_integral = np.sum(theoretical_func(x))*(bins[i+1] - bins[i])/number_samples\n",
    "        approx_t.append(approx_integral)\n",
    "\n",
    "    approx_e = np.array(approx_e)\n",
    "    approx_t = np.array(approx_t)\n",
    "\n",
    "    chi2 = np.sum((approx_e - approx_t)**2/approx_t)\n",
    "    return chi2\n"
   ]
  },
  {
   "cell_type": "code",
   "execution_count": 120,
   "metadata": {},
   "outputs": [
    {
     "data": {
      "image/png": "[encoded data removed]",
      "text/plain": [
       "<Figure size 640x480 with 1 Axes>"
      ]
     },
     "metadata": {},
     "output_type": "display_data"
    }
   ],
   "source": [
    "empirical_theoretical_overlay(partial(inverse_exponential, lamb=1), partial(exponential_distribution, lamb=1), 1000)"
   ]
  },
  {
   "cell_type": "code",
   "execution_count": 195,
   "metadata": {},
   "outputs": [
    {
     "data": {
      "text/plain": [
       "0.09971517833123004"
      ]
     },
     "execution_count": 195,
     "metadata": {},
     "output_type": "execute_result"
    }
   ],
   "source": [
    "f = partial(inverse_exponential, lamb=1)\n",
    "g = partial(exponential_distribution, lamb=1)\n",
    "empirical_theoretical_chisquared(f, g, number_samples = 1000, number_bins = 100)"
   ]
  },
  {
   "cell_type": "code",
   "execution_count": 25,
   "metadata": {},
   "outputs": [
    {
     "name": "stdout",
     "output_type": "stream",
     "text": [
      "372.39822164223335\n"
     ]
    }
   ],
   "source": [
    "bins = np.linspace(0, max(X), 100)\n",
    "hist, _ = np.histogram(X, bins)\n",
    "middle_points = (bins[1:] + bins[:-1]) / 2\n",
    "middle_points\n",
    "mse = np.mean((hist - np.exp(-middle_points))**2)\n",
    "print(mse)"
   ]
  },
  {
   "cell_type": "code",
   "execution_count": 165,
   "metadata": {},
   "outputs": [
    {
     "data": {
      "text/plain": [
       "1.0020159636008763"
      ]
     },
     "execution_count": 165,
     "metadata": {},
     "output_type": "execute_result"
    }
   ],
   "source": [
    "# small monte charlo integral approximation \n",
    "a = 0\n",
    "b = 2/3\n",
    "n = 10000\n",
    "X = np.random.uniform(a, b, n)\n",
    "Y = -(9/2)*X+3\n",
    "approx_area = np.sum(Y)*(b-a)/n\n",
    "approx_area\n"
   ]
  },
  {
   "cell_type": "code",
   "execution_count": 201,
   "metadata": {},
   "outputs": [
    {
     "name": "stderr",
     "output_type": "stream",
     "text": [
      "/var/folders/4h/m4cl822x663crm6w17f4x4fh0000gn/T/ipykernel_38692/723149869.py:11: DeprecationWarning: `np.math` is a deprecated alias for the standard library `math` module (Deprecated Numpy 1.25). Replace usages of `np.math` with `math`\n",
      "  return np.math.comb(n, k) * p**k * (1-p)**(n-k)\n"
     ]
    },
    {
     "ename": "TypeError",
     "evalue": "only integer scalar arrays can be converted to a scalar index",
     "output_type": "error",
     "traceback": [
      "\u001b[0;31m---------------------------------------------------------------------------\u001b[0m",
      "\u001b[0;31mTypeError\u001b[0m                                 Traceback (most recent call last)",
      "Cell \u001b[0;32mIn[201], line 5\u001b[0m\n\u001b[1;32m      3\u001b[0m f \u001b[38;5;241m=\u001b[39m partial(inverse_binomial, n\u001b[38;5;241m=\u001b[39mn, p\u001b[38;5;241m=\u001b[39mp)\n\u001b[1;32m      4\u001b[0m g \u001b[38;5;241m=\u001b[39m partial(binomial_distribution, n\u001b[38;5;241m=\u001b[39mn, p\u001b[38;5;241m=\u001b[39mp)\n\u001b[0;32m----> 5\u001b[0m \u001b[43mempirical_theoretical_chisquared\u001b[49m\u001b[43m(\u001b[49m\u001b[43mf\u001b[49m\u001b[43m,\u001b[49m\u001b[43m \u001b[49m\u001b[43mg\u001b[49m\u001b[43m,\u001b[49m\u001b[43m \u001b[49m\u001b[43mnumber_samples\u001b[49m\u001b[43m \u001b[49m\u001b[38;5;241;43m=\u001b[39;49m\u001b[43m \u001b[49m\u001b[38;5;241;43m1000\u001b[39;49m\u001b[43m,\u001b[49m\u001b[43m \u001b[49m\u001b[43mnumber_bins\u001b[49m\u001b[43m \u001b[49m\u001b[38;5;241;43m=\u001b[39;49m\u001b[43m \u001b[49m\u001b[38;5;241;43m100\u001b[39;49m\u001b[43m)\u001b[49m\n",
      "Cell \u001b[0;32mIn[200], line 45\u001b[0m, in \u001b[0;36mempirical_theoretical_chisquared\u001b[0;34m(empirical_func, theoretical_func, number_samples, number_bins)\u001b[0m\n\u001b[1;32m     43\u001b[0m \u001b[38;5;28;01mfor\u001b[39;00m i \u001b[38;5;129;01min\u001b[39;00m \u001b[38;5;28mrange\u001b[39m(\u001b[38;5;28mlen\u001b[39m(bins)\u001b[38;5;241m-\u001b[39m\u001b[38;5;241m1\u001b[39m):\n\u001b[1;32m     44\u001b[0m     x \u001b[38;5;241m=\u001b[39m np\u001b[38;5;241m.\u001b[39mlinspace(bins[i], bins[i\u001b[38;5;241m+\u001b[39m\u001b[38;5;241m1\u001b[39m], number_samples)\n\u001b[0;32m---> 45\u001b[0m     approx_integral \u001b[38;5;241m=\u001b[39m np\u001b[38;5;241m.\u001b[39msum(\u001b[43mtheoretical_func\u001b[49m\u001b[43m(\u001b[49m\u001b[43mx\u001b[49m\u001b[43m)\u001b[49m)\u001b[38;5;241m*\u001b[39m(bins[i\u001b[38;5;241m+\u001b[39m\u001b[38;5;241m1\u001b[39m] \u001b[38;5;241m-\u001b[39m bins[i])\u001b[38;5;241m/\u001b[39mnumber_samples\n\u001b[1;32m     46\u001b[0m     approx_t\u001b[38;5;241m.\u001b[39mappend(approx_integral)\n\u001b[1;32m     48\u001b[0m approx_e \u001b[38;5;241m=\u001b[39m np\u001b[38;5;241m.\u001b[39marray(approx_e)\n",
      "Cell \u001b[0;32mIn[200], line 11\u001b[0m, in \u001b[0;36mbinomial_distribution\u001b[0;34m(k, n, p)\u001b[0m\n\u001b[1;32m     10\u001b[0m \u001b[38;5;28;01mdef\u001b[39;00m \u001b[38;5;21mbinomial_distribution\u001b[39m(k, n, p):\n\u001b[0;32m---> 11\u001b[0m     \u001b[38;5;28;01mreturn\u001b[39;00m \u001b[43mnp\u001b[49m\u001b[38;5;241;43m.\u001b[39;49m\u001b[43mmath\u001b[49m\u001b[38;5;241;43m.\u001b[39;49m\u001b[43mcomb\u001b[49m\u001b[43m(\u001b[49m\u001b[43mn\u001b[49m\u001b[43m,\u001b[49m\u001b[43m \u001b[49m\u001b[43mk\u001b[49m\u001b[43m)\u001b[49m \u001b[38;5;241m*\u001b[39m p\u001b[38;5;241m*\u001b[39m\u001b[38;5;241m*\u001b[39mk \u001b[38;5;241m*\u001b[39m (\u001b[38;5;241m1\u001b[39m\u001b[38;5;241m-\u001b[39mp)\u001b[38;5;241m*\u001b[39m\u001b[38;5;241m*\u001b[39m(n\u001b[38;5;241m-\u001b[39mk)\n",
      "\u001b[0;31mTypeError\u001b[0m: only integer scalar arrays can be converted to a scalar index"
     ]
    }
   ],
   "source": [
    "n = 100\n",
    "p = 0.5\n",
    "f = partial(inverse_binomial, n=n, p=p)\n",
    "g = partial(binomial_distribution, n=n, p=p)\n",
    "empirical_theoretical_chisquared(f, g, number_samples = 1000, number_bins = 100)"
   ]
  }
 ],
 "metadata": {
  "kernelspec": {
   "display_name": "Python 3",
   "language": "python",
   "name": "python3"
  },
  "language_info": {
   "codemirror_mode": {
    "name": "ipython",
    "version": 3
   },
   "file_extension": ".py",
   "mimetype": "text/x-python",
   "name": "python",
   "nbconvert_exporter": "python",
   "pygments_lexer": "ipython3",
   "version": "3.10.11"
  }
 },
 "nbformat": 4,
 "nbformat_minor": 2
}
