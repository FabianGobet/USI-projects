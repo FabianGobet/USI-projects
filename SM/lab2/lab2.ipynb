{
 "cells": [
  {
   "cell_type": "code",
   "execution_count": 91,
   "metadata": {},
   "outputs": [],
   "source": [
    "import numpy as np\n",
    "\n",
    "def birth_death_clause(Nt, lamb_t, mniu, di, df, birth=True):\n",
    "    p = lamb_t if birth else mniu\n",
    "    return np.exp(-Nt*(lamb_t + mniu)*(df-di))*p\n",
    "\n",
    "def end_exponential_clause(Nt, lamb_t, mniu, di, df):\n",
    "    return np.exp(-Nt*(lamb_t + mniu)*(df-di))\n",
    "\n",
    "def get_lamb_t(Nt, lamb_0=0.8, Bn=-0.075):\n",
    "    return lamb_0 - Bn*Nt"
   ]
  },
  {
   "cell_type": "code",
   "execution_count": 92,
   "metadata": {},
   "outputs": [
    {
     "data": {
      "text/plain": [
       "0.875"
      ]
     },
     "execution_count": 92,
     "metadata": {},
     "output_type": "execute_result"
    }
   ],
   "source": [
    "get_lamb_t(1)"
   ]
  },
  {
   "cell_type": "code",
   "execution_count": 93,
   "metadata": {},
   "outputs": [
    {
     "data": {
      "text/plain": [
       "0.9500000000000001"
      ]
     },
     "execution_count": 93,
     "metadata": {},
     "output_type": "execute_result"
    }
   ],
   "source": [
    "get_lamb_t(2)"
   ]
  },
  {
   "cell_type": "markdown",
   "metadata": {},
   "source": [
    "# 1."
   ]
  },
  {
   "cell_type": "code",
   "execution_count": 94,
   "metadata": {},
   "outputs": [
    {
     "name": "stdout",
     "output_type": "stream",
     "text": [
      "3.8460527355226085e-22\n"
     ]
    }
   ],
   "source": [
    "events = [(5,True), (10,True), (20,None)]\n",
    "\n",
    "tree_prob = 1\n",
    "number_species = 1\n",
    "mniu = 0.1\n",
    "\n",
    "for i in range(len(events)):\n",
    "    if i==0:\n",
    "        di,df,event = 0,events[0][0],events[0][1]\n",
    "    else:\n",
    "        di,df,event = events[i-1][0], events[i][0], events[i][1]\n",
    "\n",
    "    if event is None:\n",
    "        tree_prob *= end_exponential_clause(number_species, get_lamb_t(number_species), mniu, di,df)\n",
    "    else:\n",
    "        tree_prob *= birth_death_clause(number_species, get_lamb_t(number_species), mniu, di,df, event)\n",
    "        number_species += 1 if event else -1\n",
    "\n",
    "print(tree_prob)"
   ]
  },
  {
   "cell_type": "markdown",
   "metadata": {},
   "source": [
    "# 2."
   ]
  },
  {
   "cell_type": "code",
   "execution_count": 95,
   "metadata": {},
   "outputs": [],
   "source": [
    "from  scipy.integrate import dblquad, quad\n",
    "from functools import partial\n",
    "\n",
    "integrand1 = lambda x,y: birth_death_clause(1, get_lamb_t(1), mniu, 0, x, birth=True) * birth_death_clause(2, get_lamb_t(2), mniu, x, y, birth=False) * birth_death_clause(1, get_lamb_t(1), mniu, y, 5, birth=True)\n",
    "integrand21 = lambda x: birth_death_clause(1, get_lamb_t(1), mniu, 0, x, birth=True) * birth_death_clause(2, get_lamb_t(2), mniu, x, 5, birth=True)\n",
    "integrand22 = lambda y: birth_death_clause(3, get_lamb_t(3), mniu, 5, y, birth=False) * birth_death_clause(2, get_lamb_t(2), mniu, y, 10, birth=True)\n",
    "integrand31 = integrand21\n",
    "integrand32 = lambda y: birth_death_clause(4, get_lamb_t(4), mniu, 10, y, birth=False) * end_exponential_clause(3, get_lamb_t(3), mniu, y, 20)\n",
    "integrand4 = lambda x,y: birth_death_clause(2, get_lamb_t(2), mniu, 5, x, birth=True) * birth_death_clause(3, get_lamb_t(3), mniu, x, y, birth=False) * birth_death_clause(2, get_lamb_t(2), mniu, y, 10, birth=True)\n",
    "integrand51 = lambda x: birth_death_clause(2, get_lamb_t(2), mniu, 5, x, birth=True) * birth_death_clause(3, get_lamb_t(3), mniu, x, 10, birth=True)\n",
    "integrand52 = lambda y: birth_death_clause(4, get_lamb_t(4), mniu, 10, y, birth=False) * end_exponential_clause(3, get_lamb_t(3), mniu, y, 20)\n",
    "integrand6 = lambda x,y: birth_death_clause(3, get_lamb_t(3), mniu, 10, x, birth=True) * birth_death_clause(4, get_lamb_t(4), mniu, x, y, birth=False) * end_exponential_clause(3, get_lamb_t(3), mniu, y, 20)"
   ]
  },
  {
   "cell_type": "code",
   "execution_count": 96,
   "metadata": {},
   "outputs": [],
   "source": [
    "result1 = dblquad(integrand1, 0, 5, lambda x: x, lambda x: 5)[0] * birth_death_clause(2, get_lamb_t(2), mniu, 5, 10, birth=True) * end_exponential_clause(3, get_lamb_t(3), mniu, 10, 20)\n",
    "result2 = quad(integrand21, 0, 5)[0] * quad(integrand22, 5, 10)[0] * end_exponential_clause(3, get_lamb_t(3), mniu, 10, 20)\n",
    "result3 = quad(integrand31, 0, 5)[0] * birth_death_clause(3, get_lamb_t(3), mniu, 5, 10, birth=True) * quad(integrand32, 10, 20)[0]\n",
    "result4 = birth_death_clause(1, get_lamb_t(1), mniu, 0, 5, birth=True) * dblquad(integrand4, 5, 10, lambda x: x, lambda x: 10)[0] * end_exponential_clause(3, get_lamb_t(3), mniu, 10, 20)\n",
    "result5 = birth_death_clause(1, get_lamb_t(1), mniu, 0, 5, birth=True) * quad(integrand51, 5, 10)[0] * quad(integrand52, 10, 20)[0]\n",
    "result6 = birth_death_clause(1, get_lamb_t(1), mniu, 0, 5, birth=True) * birth_death_clause(2, get_lamb_t(2), mniu, 5, 10, birth=True) * dblquad(integrand6, 10, 20, lambda x: x, lambda x: 20)[0]"
   ]
  },
  {
   "cell_type": "code",
   "execution_count": 97,
   "metadata": {},
   "outputs": [
    {
     "name": "stdout",
     "output_type": "stream",
     "text": [
      "2.999818763407265e-17\n"
     ]
    }
   ],
   "source": [
    "result = result1 + result2 + result3 + result4 + result5 + result6\n",
    "print(result)"
   ]
  },
  {
   "cell_type": "code",
   "execution_count": 99,
   "metadata": {},
   "outputs": [],
   "source": [
    "case1 = lambda x,y: integrand1(x,y) * birth_death_clause(2, get_lamb_t(2), mniu, 5, 10, birth=True) * end_exponential_clause(3, get_lamb_t(3), mniu, 10, 20)\n",
    "case2 = lambda x,y: integrand21(x) * integrand22(y) * end_exponential_clause(3, get_lamb_t(3), mniu, 10, 20)\n",
    "case3 = lambda x,y: integrand31(x) * birth_death_clause(3, get_lamb_t(3), mniu, 5, 10, birth=True) * integrand32(y)\n",
    "case4 = lambda x,y: birth_death_clause(1, get_lamb_t(1), mniu, 0, 5, birth=True) * integrand4(x,y) * end_exponential_clause(3, get_lamb_t(3), mniu, 10, 20)\n",
    "case5 = lambda x,y: birth_death_clause(1, get_lamb_t(1), mniu, 0, 5, birth=True) * integrand51(x) * integrand52(y)\n",
    "case6 = lambda x,y: birth_death_clause(1, get_lamb_t(1), mniu, 0, 5, birth=True) * birth_death_clause(2, get_lamb_t(2), mniu, 5, 10, birth=True) * integrand6(x,y)\n",
    "\n",
    "def get_case_prob_Nt(x,y):\n",
    "    if x < 5 and y < 5:\n",
    "        return case1(x,y), 1\n",
    "    elif x < 5 and y < 10:\n",
    "        return case2(x,y), 1\n",
    "    elif x < 5 and y < 20:\n",
    "        return case3(x,y), 1\n",
    "    elif x < 10 and y < 10:\n",
    "        return case4(x,y), 2\n",
    "    elif x < 10 and y < 20:\n",
    "        return case5(x,y), 2\n",
    "    else:\n",
    "        return case6(x,y), 3\n"
   ]
  },
  {
   "cell_type": "markdown",
   "metadata": {},
   "source": [
    "# 3."
   ]
  },
  {
   "cell_type": "code",
   "execution_count": 126,
   "metadata": {},
   "outputs": [
    {
     "name": "stdout",
     "output_type": "stream",
     "text": [
      "1.1956572077393737e-21 2.616847154746734e-21\n"
     ]
    }
   ],
   "source": [
    "probabilities = []\n",
    "num_trials = 100000\n",
    "\n",
    "T = 20\n",
    "for _ in range(num_trials):\n",
    "    start = np.random.uniform(0,T)\n",
    "    finnish = np.random.uniform(start,T)\n",
    "    case_prob, Nt = get_case_prob_Nt(start, finnish)\n",
    "    normalization = (1/T) * (1/(T-start)) * (1/Nt)\n",
    "    probabilities.append(case_prob / normalization)\n",
    "    \n",
    "mean = np.mean(probabilities)\n",
    "std = np.std(probabilities)\n",
    "print(mean, std)"
   ]
  },
  {
   "cell_type": "code",
   "execution_count": 127,
   "metadata": {},
   "outputs": [
    {
     "name": "stdout",
     "output_type": "stream",
     "text": [
      "2.3985796881650967e-21 6.4912965975179474e-21\n"
     ]
    }
   ],
   "source": [
    "probabilities = []\n",
    "num_trials = 100000\n",
    "\n",
    "T = 20\n",
    "for _ in range(num_trials):\n",
    "    l = [np.random.uniform(0,T) for _ in range(2)]\n",
    "    start, finnish = min(l), max(l)\n",
    "    case_prob, Nt = get_case_prob_Nt(start, finnish)\n",
    "    normalization = (1/T) * (1/T) * (1/Nt)\n",
    "    probabilities.append(case_prob / normalization)\n",
    "\n",
    "mean = np.mean(probabilities)\n",
    "std = np.std(probabilities)\n",
    "print(mean, std)"
   ]
  }
 ],
 "metadata": {
  "kernelspec": {
   "display_name": "Python 3",
   "language": "python",
   "name": "python3"
  },
  "language_info": {
   "codemirror_mode": {
    "name": "ipython",
    "version": 3
   },
   "file_extension": ".py",
   "mimetype": "text/x-python",
   "name": "python",
   "nbconvert_exporter": "python",
   "pygments_lexer": "ipython3",
   "version": "3.10.11"
  }
 },
 "nbformat": 4,
 "nbformat_minor": 2
}
