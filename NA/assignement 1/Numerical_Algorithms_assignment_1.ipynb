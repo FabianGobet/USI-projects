{
  "nbformat": 4,
  "nbformat_minor": 0,
  "metadata": {
    "colab": {
      "provenance": [],
      "toc_visible": true
    },
    "kernelspec": {
      "name": "python3",
      "display_name": "Python 3"
    },
    "language_info": {
      "name": "python"
    }
  },
  "cells": [
    {
      "cell_type": "markdown",
      "source": [
        "<center><h1><b>Numerical Algorithms - 2023/24</b></h1></center>\n",
        "<center><h3><b>Assignment 1</b></h2></center>\n",
        "<center><h5><b>Fabian Gobet</b></h5></center>"
      ],
      "metadata": {
        "id": "AaBPnlKUXas4"
      }
    },
    {
      "cell_type": "markdown",
      "source": [
        "# 1. Newtons method\n"
      ],
      "metadata": {
        "id": "KswjYV9AnssZ"
      }
    },
    {
      "cell_type": "markdown",
      "source": [
        "## 1.1 Funtion and derivatives\n",
        "\n",
        "\n",
        "We first start by defining our function of interest and proceed to compute it's first and second derivatives with respect to $x$. Let's consider the function\n",
        "\n",
        "<br>\n",
        "$$f(x) = x^3 + x + 1 \\tag{1}$$\n",
        "<br> with first order derivative\n",
        "<br><br>\n",
        "$$f'(x) = 3x^2 + 1 \\tag{2}$$\n",
        "<br> and second order derivative\n",
        "<br><br>\n",
        "$$f''(x) = 6x \\tag{3}$$\n",
        "\n"
      ],
      "metadata": {
        "id": "7KqPI6WKa0rM"
      }
    },
    {
      "cell_type": "markdown",
      "source": [
        "## 1.2 Taylor expansion\n",
        "\n",
        "<br>Let $x_{i}$ be our initial starting point. By the second order taylor expansion of $(1)$, about the point $x_{i}$, we get\n",
        "\n",
        "$$f(r) \\approx f(x_i) + (r - x_i) f'(x_i) + \\frac{1}{2} (r - x_i)^2 f''(x_i) (r) \\tag{4}$$\n",
        "<br>\n",
        "From $(4)$ we can compute $x_{i+1}$ by finding the root whilst solving for $r$, for both the first and second order taylor expansion, using $(1)$, $(2)$ and $(3)$, respectively\n",
        "<br><br>\n",
        "$$x_{i+1} = x_{i} + \\frac{f(x_{i})}{f'(x_{i})} \\tag{5}$$\n",
        "<br>\n",
        "$$x_{i+1} = x_{i} + \\frac{-b \\pm \\sqrt{b^2 -4ac}}{2a} \\tag{6}$$\n",
        "where <br>\n",
        "$$a = \\frac{f''(x_{i})}{2}, \\quad b= f'(x_{i})-x_{i}f''(x_{i}), \\quad c= f(x_{i})-x_{i}f'(x_{i})+\\frac{x_{i}^2f''(x_{i})}{2}$$"
      ],
      "metadata": {
        "id": "epotg3YWjfM8"
      }
    },
    {
      "cell_type": "markdown",
      "source": [
        "## 1.3 Real Solution\n",
        "\n",
        "From Mathematica, WolframAlpha, we can find the real solution to later use it as a way to compute the absolute values of error.<br><br>\n",
        "\n",
        "<center><table>\n",
        "    <tr>\n",
        "        <td><img src=\"https://drive.google.com/uc?export=view&id=1UpatxbtGl_QW5KLu_uMyte922YyUiBCr\" width=\"400\" alt=\"Image Description 1\"></td>\n",
        "        <td><img src=\"https://drive.google.com/uc?export=view&id=1LigMwAR9JO6RMHgSu5u74esLdNiAXbn_\" width=\"400\" alt=\"Image Description 2\"></td>\n",
        "    </tr>\n",
        "</table></center>\n"
      ],
      "metadata": {
        "id": "sWuwvFZ_q0UV"
      }
    },
    {
      "cell_type": "markdown",
      "source": [
        "# 2. Python\n"
      ],
      "metadata": {
        "id": "niZoE64NseoI"
      }
    },
    {
      "cell_type": "markdown",
      "source": [
        "## 2.1 Defining the core code\n",
        "\n",
        "For this python script we'll be using the math and matplotlib librabries"
      ],
      "metadata": {
        "id": "pYzAZxSCtml9"
      }
    },
    {
      "cell_type": "code",
      "source": [
        "import math\n",
        "import matplotlib.pyplot as plt"
      ],
      "metadata": {
        "id": "zoYs2RBbrUoq"
      },
      "execution_count": 12,
      "outputs": []
    },
    {
      "cell_type": "markdown",
      "source": [
        "We first define the function and its derivatives, and the real solution"
      ],
      "metadata": {
        "id": "bg-r26BNtxY8"
      }
    },
    {
      "cell_type": "code",
      "source": [
        "def f(x):\n",
        "    return x ** 3 + x + 1\n",
        "\n",
        "def d1f(x):\n",
        "    return 3 * x ** 2 + 1\n",
        "\n",
        "def d2f(x):\n",
        "    return 6*x\n",
        "\n",
        "c_val = math.sqrt(93)-9\n",
        "root = math.pow(c_val/2,1/3)/(math.pow(3,2/3)) - math.pow(2/(3*c_val),1/3)"
      ],
      "metadata": {
        "id": "lPqHtTBvtPFp"
      },
      "execution_count": 11,
      "outputs": []
    },
    {
      "cell_type": "markdown",
      "source": [
        "Then, we define the first and second order variants to generate $x_{i+1}$"
      ],
      "metadata": {
        "id": "XsDzOrR8t3ck"
      }
    },
    {
      "cell_type": "code",
      "source": [
        "\n",
        "def first_order_get_next_xi(x):\n",
        "    return x - f(x) / d1f(x)\n",
        "\n",
        "def second_order_get_next_xi(x):\n",
        "     d0 = f(x)\n",
        "     d1 = d1f(x)\n",
        "     d2 = d2f(x)\n",
        "\n",
        "     a = d2 / 2\n",
        "     b = d1 - x * d2\n",
        "     c = d0 - x * d1 + (d2 * x**2)/2\n",
        "\n",
        "     discr = b**2 - 4*a*c\n",
        "\n",
        "     sqt = math.sqrt(discr)\n",
        "     neg = -(b + sqt)/(2*a)\n",
        "     pos = -(b - sqt)/(2*a)\n",
        "\n",
        "     return neg if abs(x-neg)<abs(x-pos) else pos\n"
      ],
      "metadata": {
        "id": "XRYjLkqys9O-"
      },
      "execution_count": 7,
      "outputs": []
    },
    {
      "cell_type": "markdown",
      "source": [
        "And lastly, we define the algorithm using both the first order and second order expansion, side by side for comparison, with an in put of an initial guess and the number of steps"
      ],
      "metadata": {
        "id": "r8Ng2y-6uC-v"
      }
    },
    {
      "cell_type": "code",
      "source": [
        "def newton_steps(initialguess, numsteps):\n",
        "    firstorder, secondorder = [[initialguess, initialguess-root]], [[initialguess, initialguess-root]]\n",
        "    first,second = initialguess, initialguess\n",
        "    for i in range(numsteps):\n",
        "        first = first_order_get_next_xi(first)\n",
        "        second = second_order_get_next_xi(second)\n",
        "        firstorder.append([first, first-root])\n",
        "        secondorder.append([[second],second-root])\n",
        "\n",
        "    x = list(range(numsteps+1))\n",
        "    plt.yscale('symlog', linthresh=1/10000)\n",
        "    plt.plot(x, [i[1] for i in firstorder], label='Errors (First order)', marker='o', color='blue')\n",
        "    plt.plot(x, [i[1] for i in secondorder], label='Errors (Second order)', marker='x', color='green')\n",
        "    plt.legend()\n",
        "    plt.show()"
      ],
      "metadata": {
        "id": "RqPZSk6LtdLZ"
      },
      "execution_count": 72,
      "outputs": []
    },
    {
      "cell_type": "markdown",
      "source": [
        "## 2.2 Case example"
      ],
      "metadata": {
        "id": "GJ-S3816urMS"
      }
    },
    {
      "cell_type": "markdown",
      "source": [
        "In this first example we will set initial guess to $-0.7$ with 10 steps"
      ],
      "metadata": {
        "id": "FXaBiK7W8SV2"
      }
    },
    {
      "cell_type": "code",
      "source": [
        "newton_steps(-0.7,10)"
      ],
      "metadata": {
        "colab": {
          "base_uri": "https://localhost:8080/",
          "height": 430
        },
        "id": "1OXxwo0_uqpu",
        "outputId": "428b0cef-5402-46b9-b946-2d5f22084469"
      },
      "execution_count": 73,
      "outputs": [
        {
          "output_type": "display_data",
          "data": {
            "text/plain": [
              "<Figure size 640x480 with 1 Axes>"
            ],
            "image/png": "[encoded data removed]"
          },
          "metadata": {}
        }
      ]
    },
    {
      "cell_type": "markdown",
      "source": [
        "For the second example we will be getting an exception. this happens because the binomial discriminant for the second order expansion is negative, which in turn means there are no real solutions for the square root."
      ],
      "metadata": {
        "id": "ATPWtAyZ8m40"
      }
    },
    {
      "cell_type": "code",
      "source": [
        "newton_steps(0.1,10)"
      ],
      "metadata": {
        "colab": {
          "base_uri": "https://localhost:8080/",
          "height": 328
        },
        "id": "ecrnf_ra8gAe",
        "outputId": "667aa924-073d-4d1d-a98e-85fc586be84e"
      },
      "execution_count": 74,
      "outputs": [
        {
          "output_type": "error",
          "ename": "ValueError",
          "evalue": "ignored",
          "traceback": [
            "\u001b[0;31m---------------------------------------------------------------------------\u001b[0m",
            "\u001b[0;31mValueError\u001b[0m                                Traceback (most recent call last)",
            "\u001b[0;32m<ipython-input-74-793ac59f92a4>\u001b[0m in \u001b[0;36m<cell line: 1>\u001b[0;34m()\u001b[0m\n\u001b[0;32m----> 1\u001b[0;31m \u001b[0mnewton_steps\u001b[0m\u001b[0;34m(\u001b[0m\u001b[0;36m0.1\u001b[0m\u001b[0;34m,\u001b[0m\u001b[0;36m10\u001b[0m\u001b[0;34m)\u001b[0m\u001b[0;34m\u001b[0m\u001b[0;34m\u001b[0m\u001b[0m\n\u001b[0m",
            "\u001b[0;32m<ipython-input-72-a5258a32988a>\u001b[0m in \u001b[0;36mnewton_steps\u001b[0;34m(initialguess, numsteps)\u001b[0m\n\u001b[1;32m      4\u001b[0m     \u001b[0;32mfor\u001b[0m \u001b[0mi\u001b[0m \u001b[0;32min\u001b[0m \u001b[0mrange\u001b[0m\u001b[0;34m(\u001b[0m\u001b[0mnumsteps\u001b[0m\u001b[0;34m)\u001b[0m\u001b[0;34m:\u001b[0m\u001b[0;34m\u001b[0m\u001b[0;34m\u001b[0m\u001b[0m\n\u001b[1;32m      5\u001b[0m         \u001b[0mfirst\u001b[0m \u001b[0;34m=\u001b[0m \u001b[0mfirst_order_get_next_xi\u001b[0m\u001b[0;34m(\u001b[0m\u001b[0mfirst\u001b[0m\u001b[0;34m)\u001b[0m\u001b[0;34m\u001b[0m\u001b[0;34m\u001b[0m\u001b[0m\n\u001b[0;32m----> 6\u001b[0;31m         \u001b[0msecond\u001b[0m \u001b[0;34m=\u001b[0m \u001b[0msecond_order_get_next_xi\u001b[0m\u001b[0;34m(\u001b[0m\u001b[0msecond\u001b[0m\u001b[0;34m)\u001b[0m\u001b[0;34m\u001b[0m\u001b[0;34m\u001b[0m\u001b[0m\n\u001b[0m\u001b[1;32m      7\u001b[0m         \u001b[0mfirstorder\u001b[0m\u001b[0;34m.\u001b[0m\u001b[0mappend\u001b[0m\u001b[0;34m(\u001b[0m\u001b[0;34m[\u001b[0m\u001b[0mfirst\u001b[0m\u001b[0;34m,\u001b[0m \u001b[0mfirst\u001b[0m\u001b[0;34m-\u001b[0m\u001b[0mroot\u001b[0m\u001b[0;34m]\u001b[0m\u001b[0;34m)\u001b[0m\u001b[0;34m\u001b[0m\u001b[0;34m\u001b[0m\u001b[0m\n\u001b[1;32m      8\u001b[0m         \u001b[0msecondorder\u001b[0m\u001b[0;34m.\u001b[0m\u001b[0mappend\u001b[0m\u001b[0;34m(\u001b[0m\u001b[0;34m[\u001b[0m\u001b[0;34m[\u001b[0m\u001b[0msecond\u001b[0m\u001b[0;34m]\u001b[0m\u001b[0;34m,\u001b[0m\u001b[0msecond\u001b[0m\u001b[0;34m-\u001b[0m\u001b[0mroot\u001b[0m\u001b[0;34m]\u001b[0m\u001b[0;34m)\u001b[0m\u001b[0;34m\u001b[0m\u001b[0;34m\u001b[0m\u001b[0m\n",
            "\u001b[0;32m<ipython-input-7-6cd4ccf53238>\u001b[0m in \u001b[0;36msecond_order_get_next_xi\u001b[0;34m(x)\u001b[0m\n\u001b[1;32m     13\u001b[0m      \u001b[0mdiscr\u001b[0m \u001b[0;34m=\u001b[0m \u001b[0mb\u001b[0m\u001b[0;34m**\u001b[0m\u001b[0;36m2\u001b[0m \u001b[0;34m-\u001b[0m \u001b[0;36m4\u001b[0m\u001b[0;34m*\u001b[0m\u001b[0ma\u001b[0m\u001b[0;34m*\u001b[0m\u001b[0mc\u001b[0m\u001b[0;34m\u001b[0m\u001b[0;34m\u001b[0m\u001b[0m\n\u001b[1;32m     14\u001b[0m \u001b[0;34m\u001b[0m\u001b[0m\n\u001b[0;32m---> 15\u001b[0;31m      \u001b[0msqt\u001b[0m \u001b[0;34m=\u001b[0m \u001b[0mmath\u001b[0m\u001b[0;34m.\u001b[0m\u001b[0msqrt\u001b[0m\u001b[0;34m(\u001b[0m\u001b[0mdiscr\u001b[0m\u001b[0;34m)\u001b[0m\u001b[0;34m\u001b[0m\u001b[0;34m\u001b[0m\u001b[0m\n\u001b[0m\u001b[1;32m     16\u001b[0m      \u001b[0mneg\u001b[0m \u001b[0;34m=\u001b[0m \u001b[0;34m-\u001b[0m\u001b[0;34m(\u001b[0m\u001b[0mb\u001b[0m \u001b[0;34m+\u001b[0m \u001b[0msqt\u001b[0m\u001b[0;34m)\u001b[0m\u001b[0;34m/\u001b[0m\u001b[0;34m(\u001b[0m\u001b[0;36m2\u001b[0m\u001b[0;34m*\u001b[0m\u001b[0ma\u001b[0m\u001b[0;34m)\u001b[0m\u001b[0;34m\u001b[0m\u001b[0;34m\u001b[0m\u001b[0m\n\u001b[1;32m     17\u001b[0m      \u001b[0mpos\u001b[0m \u001b[0;34m=\u001b[0m \u001b[0;34m-\u001b[0m\u001b[0;34m(\u001b[0m\u001b[0mb\u001b[0m \u001b[0;34m-\u001b[0m \u001b[0msqt\u001b[0m\u001b[0;34m)\u001b[0m\u001b[0;34m/\u001b[0m\u001b[0;34m(\u001b[0m\u001b[0;36m2\u001b[0m\u001b[0;34m*\u001b[0m\u001b[0ma\u001b[0m\u001b[0;34m)\u001b[0m\u001b[0;34m\u001b[0m\u001b[0;34m\u001b[0m\u001b[0m\n",
            "\u001b[0;31mValueError\u001b[0m: math domain error"
          ]
        }
      ]
    },
    {
      "cell_type": "markdown",
      "source": [
        "A good workaround fot this would be to implement a combination of the first and second order expansions, allowing the faster convergance of the scond order, except in for the case of a negative bonomial discriminant."
      ],
      "metadata": {
        "id": "6E0pKvGP8_r5"
      }
    }
  ]
}