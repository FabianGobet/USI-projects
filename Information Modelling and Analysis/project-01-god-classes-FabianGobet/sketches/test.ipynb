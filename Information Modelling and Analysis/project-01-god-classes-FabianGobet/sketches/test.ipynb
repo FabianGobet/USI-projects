{
 "cells": [
  {
   "cell_type": "code",
   "execution_count": 5,
   "metadata": {},
   "outputs": [],
   "source": [
    "import pandas as pd\n",
    "import os\n",
    "import javalang\n",
    "\n",
    "df = pd.DataFrame(columns=['path','class_name', 'number_of_methods'])\n",
    "\n",
    "for path_walk, _, files_walk in os.walk('./resources/xerces2-j-src/'):\n",
    "    for file in files_walk:\n",
    "        if file.endswith('.java'):\n",
    "            with open(os.path.join(path_walk, file), 'r') as f:\n",
    "                tree = javalang.parse.parse(f.read())\n",
    "            for _, class_declaration in tree.filter(javalang.tree.ClassDeclaration):\n",
    "                method_number = len(class_declaration.methods)\n",
    "                df.loc[len(df.index)] = [path_walk+'/'+file,class_declaration.name, method_number]\n",
    "\n",
    "df['is_god'] = df['number_of_methods'].apply(lambda x: x > df['number_of_methods'].mean() + 6*df['number_of_methods'].std())\n"
   ]
  },
  {
   "cell_type": "code",
   "execution_count": 7,
   "metadata": {},
   "outputs": [],
   "source": [
    "df_filtered = df.loc[df['is_god'] == True, ['path', 'class_name']]\n"
   ]
  },
  {
   "cell_type": "code",
   "execution_count": 20,
   "metadata": {},
   "outputs": [],
   "source": [
    "df_concatenated = pd.DataFrame({'concatenated': df_filtered['path']})\n",
    "df_concatenated = df_concatenated['concatenated'].values.tolist()"
   ]
  },
  {
   "cell_type": "code",
   "execution_count": 21,
   "metadata": {},
   "outputs": [],
   "source": [
    "import javalang\n",
    "import pandas as pd\n",
    "from typing import List\n",
    "import sys\n",
    "\n",
    "def get_fields(class_declaration: javalang.tree.ClassDeclaration) -> set[str]:\n",
    "    set_fields = set()\n",
    "    for m in class_declaration.fields:\n",
    "        set_fields.add(m.declarators[0].name)\n",
    "    return set_fields\n",
    "\n",
    "def get_methods(class_declaration: javalang.tree.ClassDeclaration) -> set[str]:\n",
    "    set_methods = set()\n",
    "    for m in class_declaration.methods:\n",
    "        set_methods.add(m.name)\n",
    "    return set_methods\n",
    "\n",
    "def get_fields_accessed_by_method(method_declaration: javalang.tree.MethodDeclaration) -> set[str]:\n",
    "    set_field_accesses = set()\n",
    "    for _,p in method_declaration.filter(javalang.tree.MemberReference):\n",
    "        set_field_accesses.add(p.qualifier if p.qualifier != '' else p.member)\n",
    "    return set_field_accesses\n",
    "\n",
    "def get_methods_accessed_by_method(method_declaration: javalang.tree.MethodDeclaration) -> set[str]:\n",
    "    set_method_accesses = set()\n",
    "    for _,p in method_declaration.filter(javalang.tree.MethodInvocation):\n",
    "        set_method_accesses.add(p.member)\n",
    "    return set_method_accesses\n",
    "\n",
    "def extract_feature_vectors(path_java_file: str, save_directory_path: str = './') -> pd.DataFrame:\n",
    "    with open(path_java_file, 'r') as f:\n",
    "        tree = javalang.parse.parse(f.read())\n",
    "    class_name = path_java_file.split('/')[-1].split('.')[0]\n",
    "    for _,n in tree.filter(javalang.tree.ClassDeclaration):\n",
    "        if(n.name == class_name):\n",
    "            features = set()\n",
    "            features.update(get_fields(n))\n",
    "            features.update(get_methods(n))\n",
    "            idx_to_features = list(features)\n",
    "            df = generate_feature_dataframe(n, idx_to_features)\n",
    "            df = df.fillna(0)\n",
    "            df[idx_to_features] = df[idx_to_features].astype(int)\n",
    "            if not save_directory_path.endswith('/') != './':\n",
    "                save_directory_path = save_directory_path+'/'\n",
    "            df.to_csv(save_directory_path+class_name+'.csv', index=False)\n",
    "\n",
    "def generate_feature_dataframe(node: javalang.tree.ClassDeclaration, idx_to_features: List[str]) -> pd.DataFrame:\n",
    "    df = pd.DataFrame(columns=['method_name']+idx_to_features)\n",
    "    for m in node.methods:\n",
    "        method_name = m.name\n",
    "        method_features = set()\n",
    "        method_features = method_features.union(get_fields_accessed_by_method(m))\n",
    "        method_features = method_features.union(get_methods_accessed_by_method(m))\n",
    "        for f in list(method_features):\n",
    "            if f in idx_to_features:\n",
    "                if not df['method_name'].isin([method_name]).any():\n",
    "                    df.loc[len(df)] = {'method_name': method_name}\n",
    "                df.loc[df['method_name'] == method_name, f] = 1\n",
    "    return df\n",
    "\n"
   ]
  },
  {
   "cell_type": "code",
   "execution_count": 22,
   "metadata": {},
   "outputs": [],
   "source": [
    "for l in df_concatenated:\n",
    "    extract_feature_vectors(l)"
   ]
  }
 ],
 "metadata": {
  "kernelspec": {
   "display_name": "Python 3",
   "language": "python",
   "name": "python3"
  },
  "language_info": {
   "codemirror_mode": {
    "name": "ipython",
    "version": 3
   },
   "file_extension": ".py",
   "mimetype": "text/x-python",
   "name": "python",
   "nbconvert_exporter": "python",
   "pygments_lexer": "ipython3",
   "version": "3.10.11"
  }
 },
 "nbformat": 4,
 "nbformat_minor": 2
}
