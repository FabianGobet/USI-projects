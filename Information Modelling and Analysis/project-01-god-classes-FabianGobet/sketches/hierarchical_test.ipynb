{
 "cells": [
  {
   "cell_type": "code",
   "execution_count": 7,
   "metadata": {},
   "outputs": [],
   "source": [
    "from sklearn.cluster import AgglomerativeClustering\n",
    "import pandas as pd\n",
    "import sys"
   ]
  },
  {
   "cell_type": "code",
   "execution_count": 8,
   "metadata": {},
   "outputs": [],
   "source": [
    "def agglomerative_clustering(path_to_featurevec_csv: str, n_clusters: int) -> None:\n",
    "    df = pd.read_csv(path_to_featurevec_csv)\n",
    "    X = df.drop('method_name', axis=1).values\n",
    "    kmeans = AgglomerativeClustering(n_clusters=n_clusters,linkage='complete').fit(X).labels_\n",
    "\n",
    "    df_for_csv = df['method_name'].to_frame()\n",
    "    df_for_csv['cluster_id'] = kmeans  \n",
    "    cols = df_for_csv.columns.tolist()\n",
    "    df_for_csv = df_for_csv[cols[-1:] + cols[:-1]]\n",
    "\n",
    "    class_name = path_to_featurevec_csv.split('/')[-1].split('.')[0]\n",
    "    df_for_csv.to_csv(class_name + '_agglomerative_'+str(n_clusters)+'.csv', index=False)"
   ]
  },
  {
   "cell_type": "code",
   "execution_count": 9,
   "metadata": {},
   "outputs": [],
   "source": [
    "agglomerative_clustering('./XSDHandler.csv', 5)"
   ]
  }
 ],
 "metadata": {
  "kernelspec": {
   "display_name": "Python 3",
   "language": "python",
   "name": "python3"
  },
  "language_info": {
   "codemirror_mode": {
    "name": "ipython",
    "version": 3
   },
   "file_extension": ".py",
   "mimetype": "text/x-python",
   "name": "python",
   "nbconvert_exporter": "python",
   "pygments_lexer": "ipython3",
   "version": "3.10.11"
  }
 },
 "nbformat": 4,
 "nbformat_minor": 2
}
