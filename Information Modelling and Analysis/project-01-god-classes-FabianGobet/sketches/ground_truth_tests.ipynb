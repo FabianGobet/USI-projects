{
 "cells": [
  {
   "cell_type": "code",
   "execution_count": 8,
   "metadata": {},
   "outputs": [],
   "source": [
    "import pandas as pd"
   ]
  },
  {
   "cell_type": "code",
   "execution_count": 5,
   "metadata": {},
   "outputs": [],
   "source": [
    "path_keywords_list = './keywords_list.txt'\n",
    "path_featurevec_csv = './XSDHandler.csv'"
   ]
  },
  {
   "cell_type": "code",
   "execution_count": 10,
   "metadata": {},
   "outputs": [
    {
     "name": "stdout",
     "output_type": "stream",
     "text": [
      "['create', 'object', 'cache', 'uri', 'standalone', 'encoding', 'identifier', 'user', 'error', 'content', 'parameter', 'subset', 'global', 'component']\n"
     ]
    }
   ],
   "source": [
    "with open(path_keywords_list, 'r') as f:\n",
    "    keywords_list = f.read().splitlines()\n",
    "\n",
    "print(keywords_list)"
   ]
  },
  {
   "cell_type": "code",
   "execution_count": 21,
   "metadata": {},
   "outputs": [
    {
     "data": {
      "text/plain": [
       "array(['addGlobalAttributeGroupDecls', 'addGlobalGroupDecls', 'reset',\n",
       "       'getGlobalDecl', 'element2Locator', 'findXSDocumentForDecl',\n",
       "       'prepareForTraverse', 'schemaDocument2SystemId',\n",
       "       'expandComponents', 'addGlobalTypeDecls',\n",
       "       'expandRelatedComplexTypeComponents', 'addGlobalAttributeDecls',\n",
       "       'findDependentNamespaces', 'resolveSchema', 'null2EmptyString',\n",
       "       'getIDRegistry', 'expandRelatedElementComponents',\n",
       "       'expandRelatedComponents', 'addGlobalTypeDecl',\n",
       "       'expandRelatedAttributeComponents', 'setDeclPool',\n",
       "       'getGlobalDeclFromGrammar', 'reportSchemaWarning',\n",
       "       'resolveKeyRefs', 'getGlobalElementDecl', 'setDVFactory',\n",
       "       'createTraversers', 'traverseLocalElements',\n",
       "       'updateImportDependencies', 'addGlobalGroupDecl',\n",
       "       'addGlobalComponents', 'addGrammars', 'canAddComponents',\n",
       "       'createGrammarFrom', 'addNewGrammarComponents',\n",
       "       'needReportTNSError', 'addIDConstraintDecl', 'fillInLocalElemInfo',\n",
       "       'nonAnnotationContent', 'removeParticle', 'getGrammar',\n",
       "       'canAddComponent', 'prepareForParse', 'expandImportList',\n",
       "       'updateImportListFor', 'getGlobalAttributeGroupDecl',\n",
       "       'addImportList', 'getIDConstraintDecl', 'addGlobalElementDecls',\n",
       "       'setGenerateSyntheticAnnotations', 'traverseGlobalDecl',\n",
       "       'addRelatedAttribute', 'setSchemasVisible', 'resolveSchemaSource',\n",
       "       'emptyString2Null', 'updateImportList', 'addGlobalElementDecl',\n",
       "       'getGlobalTypeDecl', 'renameRedefiningComponents',\n",
       "       'getSchemaDocument0', 'updateImportListWith', 'traverseSchemas',\n",
       "       'getGlobalGroupDecl', 'expandGrammars',\n",
       "       'getGrpOrAttrGrpRedefinedByRestriction',\n",
       "       'expandRelatedParticleComponents',\n",
       "       'expandRelatedSimpleTypeComponents', 'isExistingGrammar',\n",
       "       'constructTrees', 'reportSharingError',\n",
       "       'expandRelatedAttributeGroupComponents', 'getSchemaGrammar',\n",
       "       'getGlobalAttributeDecl', 'getGlobalNotationDecl',\n",
       "       'addGrammarComponents', 'existingGrammars',\n",
       "       'expandRelatedTypeComponents', 'findQName',\n",
       "       'addNamespaceDependency', 'checkForDuplicateNames',\n",
       "       'getSchemaDocument1', 'containedImportedGrammar', 'parseSchema',\n",
       "       'validateAnnotations', 'getIDRegistry_sub', 'findGrammar',\n",
       "       'addGlobalNotationDecls', 'doc2SystemId',\n",
       "       'createAnnotationValidator',\n",
       "       'expandRelatedModelGroupDefinitionComponents',\n",
       "       'expandRelatedAttributeUsesComponents', 'addGlobalComponent',\n",
       "       'addRelatedElement', 'addGlobalAttributeGroupDecl',\n",
       "       'expandRelatedModelGroupComponents', 'getSchemaDocument',\n",
       "       'addNewImportedGrammars', 'addGlobalNotationDecl',\n",
       "       'expandRelatedAttributeUseComponents', 'addNewGrammarLocations',\n",
       "       'changeRedefineGroup', 'reportSchemaError',\n",
       "       'buildGlobalNameRegistries', 'addRelatedType', 'storeKeyRef',\n",
       "       'addGlobalAttributeDecl'], dtype=object)"
      ]
     },
     "execution_count": 21,
     "metadata": {},
     "output_type": "execute_result"
    }
   ],
   "source": [
    "df = pd.read_csv(path_featurevec_csv)\n",
    "methods = df['method_name'].values\n",
    "methods"
   ]
  },
  {
   "cell_type": "code",
   "execution_count": 22,
   "metadata": {},
   "outputs": [],
   "source": [
    "ground_truths = {}\n",
    "for method in methods:\n",
    "    for keyword in keywords_list:\n",
    "        if keyword in method.lower():\n",
    "            if keyword not in ground_truths:\n",
    "                ground_truths[keyword] = []\n",
    "            ground_truths[keyword].append(method)\n",
    "            break\n",
    "    else:\n",
    "        if 'none' not in ground_truths:\n",
    "            ground_truths['none'] = []\n",
    "        ground_truths['none'].append(method)"
   ]
  },
  {
   "cell_type": "code",
   "execution_count": 24,
   "metadata": {},
   "outputs": [
    {
     "name": "stdout",
     "output_type": "stream",
     "text": [
      "dict_keys(['global', 'none', 'component', 'create', 'error', 'content'])\n"
     ]
    }
   ],
   "source": [
    "print(ground_truths.keys())"
   ]
  },
  {
   "cell_type": "code",
   "execution_count": 48,
   "metadata": {},
   "outputs": [],
   "source": [
    "df_to_csv = df['method_name'].to_frame()\n",
    "df_to_csv['cluster_id'] = -1\n",
    "cols = df_to_csv.columns.tolist()\n",
    "df_to_csv = df_to_csv[cols[-1:] + cols[:-1]]\n",
    "for i, keyword in enumerate(ground_truths):\n",
    "    for method in ground_truths[keyword]:\n",
    "        df_to_csv.loc[df_to_csv['method_name'] == method, 'cluster_id'] = i\n",
    "        \n",
    "    "
   ]
  },
  {
   "cell_type": "code",
   "execution_count": 49,
   "metadata": {},
   "outputs": [
    {
     "name": "stdout",
     "output_type": "stream",
     "text": [
      "True\n"
     ]
    }
   ],
   "source": [
    "# sanity check\n",
    "set1 = set(df_to_csv.loc[df_to_csv['cluster_id'] == 0]['method_name'].values.tolist())\n",
    "set2 = set(ground_truths['global'])\n",
    "print(set1==set2)"
   ]
  },
  {
   "cell_type": "code",
   "execution_count": 51,
   "metadata": {},
   "outputs": [],
   "source": [
    "df_to_csv.sort_values(by='cluster_id', inplace=True)\n",
    "file_name = path_featurevec_csv.split('/')[-1].split('.')[0]\n",
    "file_name = 'ground_truth'+file_name+'_.csv'\n",
    "df_to_csv.to_csv(file_name, index=False)   "
   ]
  }
 ],
 "metadata": {
  "kernelspec": {
   "display_name": "Python 3",
   "language": "python",
   "name": "python3"
  },
  "language_info": {
   "codemirror_mode": {
    "name": "ipython",
    "version": 3
   },
   "file_extension": ".py",
   "mimetype": "text/x-python",
   "name": "python",
   "nbconvert_exporter": "python",
   "pygments_lexer": "ipython3",
   "version": "3.10.11"
  }
 },
 "nbformat": 4,
 "nbformat_minor": 2
}
