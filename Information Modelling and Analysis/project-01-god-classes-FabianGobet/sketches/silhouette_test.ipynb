{
 "cells": [
  {
   "cell_type": "code",
   "execution_count": 22,
   "metadata": {},
   "outputs": [],
   "source": [
    "from sklearn.metrics import silhouette_score\n",
    "from k_means import k_means_clustering\n",
    "from hierarchical import agglomerative_clustering\n",
    "import pandas as pd\n"
   ]
  },
  {
   "cell_type": "code",
   "execution_count": 48,
   "metadata": {},
   "outputs": [],
   "source": [
    "def silhouette(path_to_featurevec_csv: str, clustering_csv_path: str = None, max_clusters: int = None, min_clusters: int = 2):\n",
    "    df_feature_vector = pd.read_csv(path_to_featurevec_csv).drop('method_name', axis=1).values\n",
    "    \n",
    "    if clustering_csv_path: \n",
    "        df_clustering = pd.read_csv(clustering_csv_path).drop('method_name', axis=1).values.ravel()\n",
    "        return silhouette_score(df_feature_vector, df_clustering)\n",
    "    else:\n",
    "        kmean_dict = {}\n",
    "        agglom_dict = {}\n",
    "        for k in range(min_clusters, max_clusters + 1):\n",
    "            df_clustering = k_means_clustering(n_clusters=k, path_to_featurevec_csv=path_to_featurevec_csv, get=True,save=True).drop('method_name', axis=1).values.ravel()\n",
    "            kmean_dict[k] = silhouette_score(df_feature_vector, df_clustering)\n",
    "            df_clustering = agglomerative_clustering(path_to_featurevec_csv=path_to_featurevec_csv, n_clusters=k, get = True,save=True).drop('method_name', axis=1).values.ravel()\n",
    "            agglom_dict[k] = silhouette_score(df_feature_vector, df_clustering)\n",
    "        return kmean_dict, agglom_dict\n",
    "\n",
    "def utility_print(kmean_dict, agglom_dict):\n",
    "    print('Agglomerative:')\n",
    "    for k, v in agglom_dict.items():\n",
    "        print(f'{k}, {v:.3f}')\n",
    "    print('\\nK-means:')\n",
    "    for k, v in kmean_dict.items():\n",
    "        print(f'{k}, {v:.3f}')\n",
    "    \n"
   ]
  },
  {
   "cell_type": "code",
   "execution_count": 50,
   "metadata": {},
   "outputs": [
    {
     "name": "stdout",
     "output_type": "stream",
     "text": [
      "Agglomerative:\n",
      "2, 0.563\n",
      "3, 0.564\n",
      "4, 0.409\n",
      "5, 0.418\n",
      "\n",
      "K-means:\n",
      "2, 0.273\n",
      "3, 0.286\n",
      "4, 0.134\n",
      "5, -0.079\n"
     ]
    }
   ],
   "source": [
    "utility_print(*silhouette(path_to_featurevec_csv='./XSDHandler.csv',max_clusters=5))"
   ]
  },
  {
   "cell_type": "code",
   "execution_count": 51,
   "metadata": {},
   "outputs": [
    {
     "name": "stdout",
     "output_type": "stream",
     "text": [
      "-0.079\n"
     ]
    }
   ],
   "source": [
    "s = silhouette(path_to_featurevec_csv='./XSDHandler.csv', clustering_csv_path='./XSDHandler_kmeans_5.csv')\n",
    "print(f'{s:.3f}')"
   ]
  }
 ],
 "metadata": {
  "kernelspec": {
   "display_name": "Python 3",
   "language": "python",
   "name": "python3"
  },
  "language_info": {
   "codemirror_mode": {
    "name": "ipython",
    "version": 3
   },
   "file_extension": ".py",
   "mimetype": "text/x-python",
   "name": "python",
   "nbconvert_exporter": "python",
   "pygments_lexer": "ipython3",
   "version": "3.10.11"
  }
 },
 "nbformat": 4,
 "nbformat_minor": 2
}
