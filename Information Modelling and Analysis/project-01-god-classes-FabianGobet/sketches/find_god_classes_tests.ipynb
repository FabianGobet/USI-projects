{
 "cells": [
  {
   "cell_type": "code",
   "execution_count": 1,
   "metadata": {},
   "outputs": [],
   "source": [
    "import os\n",
    "import javalang\n",
    "import pandas as pd"
   ]
  },
  {
   "cell_type": "code",
   "execution_count": 4,
   "metadata": {},
   "outputs": [],
   "source": [
    "df = pd.DataFrame(columns=['path','class_name', 'number_of_methods'])\n",
    "\n",
    "for path_walk, _, files_walk in os.walk('../resources/xerces2-j-src/'):\n",
    "    for file in files_walk:\n",
    "        if file.endswith('.java'):\n",
    "            with open(os.path.join(path_walk, file), 'r') as f:\n",
    "                tree = javalang.parse.parse(f.read())\n",
    "            for _, class_declaration in tree.filter(javalang.tree.ClassDeclaration):\n",
    "                method_number = len(class_declaration.methods)\n",
    "                df.loc[len(df.index)] = [path_walk+'/'+file,class_declaration.name, method_number]"
   ]
  },
  {
   "cell_type": "code",
   "execution_count": 5,
   "metadata": {},
   "outputs": [
    {
     "data": {
      "text/plain": [
       "path                 ../resources/xerces2-j-src/org/apache/xerces/i...\n",
       "class_name                                     XSAnnotationGrammarPool\n",
       "number_of_methods                                                    7\n",
       "Name: 251, dtype: object"
      ]
     },
     "execution_count": 5,
     "metadata": {},
     "output_type": "execute_result"
    }
   ],
   "source": [
    "df.iloc[251]"
   ]
  },
  {
   "cell_type": "code",
   "execution_count": 6,
   "metadata": {},
   "outputs": [
    {
     "name": "stdout",
     "output_type": "stream",
     "text": [
      "       number_of_methods\n",
      "count         727.000000\n",
      "mean           10.407153\n",
      "std            14.635963\n",
      "min             0.000000\n",
      "25%             2.000000\n",
      "50%             6.000000\n",
      "75%            12.000000\n",
      "max           125.000000\n"
     ]
    },
    {
     "data": {
      "text/plain": [
       "98.22292983907137"
      ]
     },
     "execution_count": 6,
     "metadata": {},
     "output_type": "execute_result"
    }
   ],
   "source": [
    "print(df.describe())\n",
    "df['number_of_methods'].mean() + 6*df['number_of_methods'].std()"
   ]
  },
  {
   "cell_type": "code",
   "execution_count": 7,
   "metadata": {},
   "outputs": [],
   "source": [
    "df['is_god'] = df['number_of_methods'].apply(lambda x: x > df['number_of_methods'].mean() + 6*df['number_of_methods'].std())\n"
   ]
  },
  {
   "cell_type": "code",
   "execution_count": 8,
   "metadata": {},
   "outputs": [
    {
     "data": {
      "text/html": [
       "<div>\n",
       "<style scoped>\n",
       "    .dataframe tbody tr th:only-of-type {\n",
       "        vertical-align: middle;\n",
       "    }\n",
       "\n",
       "    .dataframe tbody tr th {\n",
       "        vertical-align: top;\n",
       "    }\n",
       "\n",
       "    .dataframe thead th {\n",
       "        text-align: right;\n",
       "    }\n",
       "</style>\n",
       "<table border=\"1\" class=\"dataframe\">\n",
       "  <thead>\n",
       "    <tr style=\"text-align: right;\">\n",
       "      <th></th>\n",
       "      <th>path</th>\n",
       "      <th>class_name</th>\n",
       "      <th>number_of_methods</th>\n",
       "      <th>is_god</th>\n",
       "    </tr>\n",
       "  </thead>\n",
       "  <tbody>\n",
       "    <tr>\n",
       "      <th>250</th>\n",
       "      <td>../resources/xerces2-j-src/org/apache/xerces/i...</td>\n",
       "      <td>XSDHandler</td>\n",
       "      <td>118</td>\n",
       "      <td>True</td>\n",
       "    </tr>\n",
       "    <tr>\n",
       "      <th>300</th>\n",
       "      <td>../resources/xerces2-j-src/org/apache/xerces/i...</td>\n",
       "      <td>DTDGrammar</td>\n",
       "      <td>101</td>\n",
       "      <td>True</td>\n",
       "    </tr>\n",
       "    <tr>\n",
       "      <th>406</th>\n",
       "      <td>../resources/xerces2-j-src/org/apache/xerces/x...</td>\n",
       "      <td>XIncludeHandler</td>\n",
       "      <td>116</td>\n",
       "      <td>True</td>\n",
       "    </tr>\n",
       "    <tr>\n",
       "      <th>602</th>\n",
       "      <td>../resources/xerces2-j-src/org/apache/xerces/d...</td>\n",
       "      <td>CoreDocumentImpl</td>\n",
       "      <td>125</td>\n",
       "      <td>True</td>\n",
       "    </tr>\n",
       "  </tbody>\n",
       "</table>\n",
       "</div>"
      ],
      "text/plain": [
       "                                                  path        class_name  \\\n",
       "250  ../resources/xerces2-j-src/org/apache/xerces/i...        XSDHandler   \n",
       "300  ../resources/xerces2-j-src/org/apache/xerces/i...        DTDGrammar   \n",
       "406  ../resources/xerces2-j-src/org/apache/xerces/x...   XIncludeHandler   \n",
       "602  ../resources/xerces2-j-src/org/apache/xerces/d...  CoreDocumentImpl   \n",
       "\n",
       "     number_of_methods  is_god  \n",
       "250                118    True  \n",
       "300                101    True  \n",
       "406                116    True  \n",
       "602                125    True  "
      ]
     },
     "execution_count": 8,
     "metadata": {},
     "output_type": "execute_result"
    }
   ],
   "source": [
    "df.loc[df['is_god'] == True]\n"
   ]
  },
  {
   "cell_type": "code",
   "execution_count": 9,
   "metadata": {},
   "outputs": [
    {
     "data": {
      "text/html": [
       "<div>\n",
       "<style scoped>\n",
       "    .dataframe tbody tr th:only-of-type {\n",
       "        vertical-align: middle;\n",
       "    }\n",
       "\n",
       "    .dataframe tbody tr th {\n",
       "        vertical-align: top;\n",
       "    }\n",
       "\n",
       "    .dataframe thead th {\n",
       "        text-align: right;\n",
       "    }\n",
       "</style>\n",
       "<table border=\"1\" class=\"dataframe\">\n",
       "  <thead>\n",
       "    <tr style=\"text-align: right;\">\n",
       "      <th></th>\n",
       "      <th>path</th>\n",
       "      <th>class_name</th>\n",
       "      <th>number_of_methods</th>\n",
       "      <th>is_god</th>\n",
       "    </tr>\n",
       "  </thead>\n",
       "  <tbody>\n",
       "    <tr>\n",
       "      <th>501</th>\n",
       "      <td>../resources/xerces2-j-src/org/apache/xerces/u...</td>\n",
       "      <td>ThrowableMethods</td>\n",
       "      <td>0</td>\n",
       "      <td>False</td>\n",
       "    </tr>\n",
       "    <tr>\n",
       "      <th>515</th>\n",
       "      <td>../resources/xerces2-j-src/org/apache/xerces/x...</td>\n",
       "      <td>XSException</td>\n",
       "      <td>0</td>\n",
       "      <td>False</td>\n",
       "    </tr>\n",
       "    <tr>\n",
       "      <th>631</th>\n",
       "      <td>../resources/xerces2-j-src/org/apache/xerces/d...</td>\n",
       "      <td>XMLDTDLoaderHolder</td>\n",
       "      <td>0</td>\n",
       "      <td>False</td>\n",
       "    </tr>\n",
       "    <tr>\n",
       "      <th>113</th>\n",
       "      <td>../resources/xerces2-j-src/org/apache/xerces/i...</td>\n",
       "      <td>CharacterBuffer</td>\n",
       "      <td>0</td>\n",
       "      <td>False</td>\n",
       "    </tr>\n",
       "    <tr>\n",
       "      <th>111</th>\n",
       "      <td>../resources/xerces2-j-src/org/apache/xerces/i...</td>\n",
       "      <td>EncodingInfo</td>\n",
       "      <td>0</td>\n",
       "      <td>False</td>\n",
       "    </tr>\n",
       "    <tr>\n",
       "      <th>...</th>\n",
       "      <td>...</td>\n",
       "      <td>...</td>\n",
       "      <td>...</td>\n",
       "      <td>...</td>\n",
       "    </tr>\n",
       "    <tr>\n",
       "      <th>376</th>\n",
       "      <td>../resources/xerces2-j-src/org/apache/xerces/i...</td>\n",
       "      <td>XSSimpleTypeDecl</td>\n",
       "      <td>85</td>\n",
       "      <td>False</td>\n",
       "    </tr>\n",
       "    <tr>\n",
       "      <th>300</th>\n",
       "      <td>../resources/xerces2-j-src/org/apache/xerces/i...</td>\n",
       "      <td>DTDGrammar</td>\n",
       "      <td>101</td>\n",
       "      <td>True</td>\n",
       "    </tr>\n",
       "    <tr>\n",
       "      <th>406</th>\n",
       "      <td>../resources/xerces2-j-src/org/apache/xerces/x...</td>\n",
       "      <td>XIncludeHandler</td>\n",
       "      <td>116</td>\n",
       "      <td>True</td>\n",
       "    </tr>\n",
       "    <tr>\n",
       "      <th>250</th>\n",
       "      <td>../resources/xerces2-j-src/org/apache/xerces/i...</td>\n",
       "      <td>XSDHandler</td>\n",
       "      <td>118</td>\n",
       "      <td>True</td>\n",
       "    </tr>\n",
       "    <tr>\n",
       "      <th>602</th>\n",
       "      <td>../resources/xerces2-j-src/org/apache/xerces/d...</td>\n",
       "      <td>CoreDocumentImpl</td>\n",
       "      <td>125</td>\n",
       "      <td>True</td>\n",
       "    </tr>\n",
       "  </tbody>\n",
       "</table>\n",
       "<p>727 rows × 4 columns</p>\n",
       "</div>"
      ],
      "text/plain": [
       "                                                  path          class_name  \\\n",
       "501  ../resources/xerces2-j-src/org/apache/xerces/u...    ThrowableMethods   \n",
       "515  ../resources/xerces2-j-src/org/apache/xerces/x...         XSException   \n",
       "631  ../resources/xerces2-j-src/org/apache/xerces/d...  XMLDTDLoaderHolder   \n",
       "113  ../resources/xerces2-j-src/org/apache/xerces/i...     CharacterBuffer   \n",
       "111  ../resources/xerces2-j-src/org/apache/xerces/i...        EncodingInfo   \n",
       "..                                                 ...                 ...   \n",
       "376  ../resources/xerces2-j-src/org/apache/xerces/i...    XSSimpleTypeDecl   \n",
       "300  ../resources/xerces2-j-src/org/apache/xerces/i...          DTDGrammar   \n",
       "406  ../resources/xerces2-j-src/org/apache/xerces/x...     XIncludeHandler   \n",
       "250  ../resources/xerces2-j-src/org/apache/xerces/i...          XSDHandler   \n",
       "602  ../resources/xerces2-j-src/org/apache/xerces/d...    CoreDocumentImpl   \n",
       "\n",
       "     number_of_methods  is_god  \n",
       "501                  0   False  \n",
       "515                  0   False  \n",
       "631                  0   False  \n",
       "113                  0   False  \n",
       "111                  0   False  \n",
       "..                 ...     ...  \n",
       "376                 85   False  \n",
       "300                101    True  \n",
       "406                116    True  \n",
       "250                118    True  \n",
       "602                125    True  \n",
       "\n",
       "[727 rows x 4 columns]"
      ]
     },
     "execution_count": 9,
     "metadata": {},
     "output_type": "execute_result"
    }
   ],
   "source": [
    "# order df by the number of methods ascending\n",
    "df = df.sort_values(by='number_of_methods', ascending=True)\n",
    "df"
   ]
  },
  {
   "cell_type": "code",
   "execution_count": 10,
   "metadata": {},
   "outputs": [
    {
     "data": {
      "text/plain": [
       "'../resources/xerces2-j-src/org/apache/xerces/impl/xs/traversers/XSDHandler.java'"
      ]
     },
     "execution_count": 10,
     "metadata": {},
     "output_type": "execute_result"
    }
   ],
   "source": [
    "# show elements of df with number_methods betwen 10 and 20\n",
    "df.loc[(df['number_of_methods'] > 3) & (df['number_of_methods'] < 7)]\n",
    "df.loc[250, 'path']"
   ]
  }
 ],
 "metadata": {
  "kernelspec": {
   "display_name": "Python 3",
   "language": "python",
   "name": "python3"
  },
  "language_info": {
   "codemirror_mode": {
    "name": "ipython",
    "version": 3
   },
   "file_extension": ".py",
   "mimetype": "text/x-python",
   "name": "python",
   "nbconvert_exporter": "python",
   "pygments_lexer": "ipython3",
   "version": "3.10.11"
  }
 },
 "nbformat": 4,
 "nbformat_minor": 2
}
