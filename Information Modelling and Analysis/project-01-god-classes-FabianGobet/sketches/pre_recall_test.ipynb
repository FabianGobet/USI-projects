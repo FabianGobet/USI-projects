{
 "cells": [
  {
   "cell_type": "code",
   "execution_count": 1,
   "metadata": {},
   "outputs": [],
   "source": [
    "import pandas as pd"
   ]
  },
  {
   "cell_type": "code",
   "execution_count": 2,
   "metadata": {},
   "outputs": [],
   "source": [
    "path_cluster_csv = './gen_test/XSDHandler_kmeans_3.csv'\n",
    "path_ground_truth = './gen_test/ground_truth_XSDHandler.csv'"
   ]
  },
  {
   "cell_type": "code",
   "execution_count": 30,
   "metadata": {},
   "outputs": [],
   "source": [
    "def get_intrapairs(df: pd.DataFrame) -> list:\n",
    "    intrapairs = []\n",
    "    for _, group in df.groupby('cluster_id'):\n",
    "        if len(group) > 1:\n",
    "            for i in range(len(group)):\n",
    "                for j in range(i+1, len(group)):\n",
    "                    temp_set = set()\n",
    "                    temp_set.update([group.iloc[i]['method_name'], group.iloc[j]['method_name']])\n",
    "                    if temp_set not in intrapairs:\n",
    "                        intrapairs.append(temp_set)\n",
    "    return intrapairs\n",
    "\n",
    "def get_intersections(intra1:list, intra2:list ) -> list:\n",
    "    intersections = []\n",
    "    for p1 in intra1:\n",
    "        if p1 in intra2:\n",
    "            intersections.append(p1)\n",
    "    return intersections\n",
    "\n",
    "def get_precision_recall(path_cluster_csv: str, path_ground_truth: str) -> tuple:\n",
    "    df_d = pd.read_csv(path_cluster_csv)\n",
    "    df_g = pd.read_csv(path_ground_truth)\n",
    "\n",
    "    intra_d = get_intrapairs(df_d)\n",
    "    intra_g = get_intrapairs(df_g)\n",
    "    inter = get_intersections(intra_d, intra_g)\n",
    "\n",
    "    p = len(inter) / len(intra_d)\n",
    "    r = len(inter) / len(intra_g)\n",
    "\n",
    "    return p,r\n",
    "\n"
   ]
  },
  {
   "cell_type": "code",
   "execution_count": 34,
   "metadata": {},
   "outputs": [
    {
     "name": "stdout",
     "output_type": "stream",
     "text": [
      "4086\n",
      "2031\n",
      "1438\n"
     ]
    }
   ],
   "source": [
    "df_d = pd.read_csv(path_cluster_csv)\n",
    "df_g = pd.read_csv(path_ground_truth)\n",
    "\n",
    "intra_d = get_intrapairs(df_d)\n",
    "intra_g = get_intrapairs(df_g)\n",
    "\n",
    "inter = get_intersections(intra_d, intra_g)\n",
    "\n",
    "p = len(inter) / len(intra_d)\n",
    "r = len(inter) / len(intra_g)\n",
    "\n"
   ]
  }
 ],
 "metadata": {
  "kernelspec": {
   "display_name": "Python 3",
   "language": "python",
   "name": "python3"
  },
  "language_info": {
   "codemirror_mode": {
    "name": "ipython",
    "version": 3
   },
   "file_extension": ".py",
   "mimetype": "text/x-python",
   "name": "python",
   "nbconvert_exporter": "python",
   "pygments_lexer": "ipython3",
   "version": "3.10.11"
  }
 },
 "nbformat": 4,
 "nbformat_minor": 2
}
