{
 "cells": [
  {
   "cell_type": "markdown",
   "metadata": {},
   "source": [
    "# PSI-BLAST"
   ]
  },
  {
   "cell_type": "markdown",
   "metadata": {},
   "source": [
    "- https://www.uniprot.org/uniprotkb/P04201/entry\n",
    "- Sequence:\n",
    "MDGSNVTSFVVEEPTNISTGRNASVGNAHRQIPIVHWVIMSISPVGFVENGILLWFLCFRMRRNPFTVYITHLSIADISLLFCIFILSIDYALDYELSSGHYYTIVTLSVTFLFGYNTGLYLLTAISVERCLSVLYPIWYRCHRPKYQSALVCALLWALSCLVTTMEYVMCIDREEESHSRNDCRAVIIFIAILSFLVFTPLMLVSSTILVVKIRKNTWASHSSKLYIVIMVTIIIFLIFAMPMRLLYLLYYEYWSTFGNLHHISLLFSTINSSANPFIYFFVGSSKKKRFKESLKVVLTRAFKDEMQPRRQKDNCNTVTVETVV\n",
    "- Sequence size: 325 residues\n",
    "- We use PSI-BLAST on the PDB database\n",
    "- From DooLittle's Rule diagram we can use PSI-BLAST and consider a sequence-identity percentage of > 20% whilst still being in the safe zone.\n",
    "- On second iteration of PSI-BLAST I've only found one chimera and one homo sapiens possible templates with identity percentage above 20% and query coverage above 90%.\n",
    "- I dont know how many templates Will be possible to acquire, so I decided to investigate the third iteration\n",
    "- Third iteration presents no substantial results with our accepted thresholds, so we go back to the second\n",
    "\n"
   ]
  },
  {
   "cell_type": "markdown",
   "metadata": {},
   "source": []
  }
 ],
 "metadata": {
  "language_info": {
   "name": "python"
  }
 },
 "nbformat": 4,
 "nbformat_minor": 2
}
